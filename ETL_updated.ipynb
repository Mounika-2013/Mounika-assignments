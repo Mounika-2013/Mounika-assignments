{
 "cells": [
  {
   "cell_type": "code",
   "execution_count": 1,
   "metadata": {},
   "outputs": [],
   "source": [
    "import requests\n",
    "import numpy as np\n",
    "import pandas as pd\n",
    "import time\n",
    "from pprint import pprint\n",
    "from matplotlib import pyplot as plt\n",
    "from scipy import stats"
   ]
  },
  {
   "cell_type": "code",
   "execution_count": null,
   "metadata": {},
   "outputs": [],
   "source": [
    "apikey = \"15B191E7-B8C5-3AF1-9E28-97FD910F9119\"\n",
    "usda_url =\"http://quickstats.nass.usda.gov/api/api_GET/?key=15B191E7-B8C5-3AF1-9E28-97FD910F9119&source_desc=SURVEY&commodity_desc=HONEY&agg_level_desc=STATE&param=short_desc\"\n",
    "usda_data= requests.get(usda_url).json()\n",
    "usda_data"
   ]
  },
  {
   "cell_type": "code",
   "execution_count": null,
   "metadata": {},
   "outputs": [],
   "source": [
    "new_usda_list=usda_data['data']\n",
    "usda_df=pd.DataFrame(new_usda_list)\n",
    "usda_df.head(2)\n",
    "usda_df.head(2)"
   ]
  },
  {
   "cell_type": "code",
   "execution_count": null,
   "metadata": {},
   "outputs": [],
   "source": [
    "usda_df.columns"
   ]
  },
  {
   "cell_type": "code",
   "execution_count": null,
   "metadata": {},
   "outputs": [],
   "source": [
    "usda_df.reset_index(inplace=True)\n",
    "usda_df = usda_df.rename(columns = {'index': 'survey_id'})\n",
    "usda_df.reset_index(drop=True)\n",
    "usda_df"
   ]
  },
  {
   "cell_type": "code",
   "execution_count": 6,
   "metadata": {},
   "outputs": [],
   "source": [
    "usda_df.dropna(inplace=True)"
   ]
  },
  {
   "cell_type": "code",
   "execution_count": null,
   "metadata": {},
   "outputs": [],
   "source": [
    "usda_location = usda_df[['country_name', 'country_code', 'state_name', 'state_alpha','state_fips_code']]\n",
    "usda_location"
   ]
  },
  {
   "cell_type": "code",
   "execution_count": null,
   "metadata": {},
   "outputs": [],
   "source": [
    "usda_period = usda_df[['survey_id','freq_desc','year','load_time','state_name']]\n",
    "usda_period"
   ]
  },
  {
   "cell_type": "code",
   "execution_count": null,
   "metadata": {},
   "outputs": [],
   "source": [
    "usda_product = usda_df[['survey_id','sector_desc','class_desc','group_desc','commodity_desc']]\n",
    "usda_product"
   ]
  },
  {
   "cell_type": "code",
   "execution_count": null,
   "metadata": {},
   "outputs": [],
   "source": [
    "#General dataframe for loss of bees\n",
    "usda_causes_df=usda_df[['survey_id','Value', 'domain_desc', 'unit_desc','short_desc','statisticcat_desc']]\n",
    "usda_causes_df['short_desc'].unique()"
   ]
  },
  {
   "cell_type": "code",
   "execution_count": null,
   "metadata": {},
   "outputs": [],
   "source": [
    "#Extracted data with CCD for 2020 year (90 rows, 8 columns)\n",
    "usda_ccd_df = usda_causes_df[usda_causes_df['short_desc'].str.contains(\"COLONY COLLAPSE DISORDER\")]\n",
    "#Removed \",\" from value columns\n",
    "usda_ccd_df['Value']=usda_ccd_df['Value'].str.replace(',','')\n",
    "#converted value column in CCD 2020 from str to float\n",
    "usda_ccd_df['Value'] = usda_ccd_df['Value'].astype(float)\n",
    "usda_ccd_df"
   ]
  },
  {
   "cell_type": "code",
   "execution_count": null,
   "metadata": {},
   "outputs": [],
   "source": [
    "usda_pests_df = usda_causes_df[usda_causes_df['short_desc'].str.contains(\"AFFECTED BY PESTS\")]\n",
    "#Removed \",\" from value columns\n",
    "usda_pests_df['Value']=usda_pests_df['Value'].str.replace(',','')\n",
    "#converted value column in pests from str to float\n",
    "usda_pests_df['Value'] = pd.to_numeric(usda_pests_df['Value'], errors='coerce')\n",
    "usda_pests_df"
   ]
  },
  {
   "cell_type": "code",
   "execution_count": null,
   "metadata": {},
   "outputs": [],
   "source": [
    "usda_inventory_max_df = usda_causes_df[usda_causes_df['short_desc'].str.contains(\"INVENTORY, MAX,\")]\n",
    "#Removed \",\" from value columns\n",
    "usda_inventory_max_df['Value']=usda_inventory_max_df['Value'].str.replace(',','')\n",
    "#converted value column in pests from str to float\n",
    "usda_inventory_max_df['Value'] = pd.to_numeric(usda_inventory_max_df['Value'], errors='coerce')\n",
    "usda_inventory_max_df"
   ]
  },
  {
   "cell_type": "code",
   "execution_count": null,
   "metadata": {},
   "outputs": [],
   "source": [
    "usda_other_causes_df = usda_causes_df[usda_causes_df['short_desc'].str.contains(\"AFFECTED BY OTHER CAUSES\")]\n",
    "#Removed \",\" from value columns\n",
    "usda_other_causes_df['Value']=usda_other_causes_df['Value'].str.replace(',','')\n",
    "#converted value column in pests from str to float\n",
    "usda_other_causes_df['Value'] = pd.to_numeric(usda_other_causes_df['Value'], errors='coerce')\n",
    "usda_other_causes_df"
   ]
  },
  {
   "cell_type": "code",
   "execution_count": null,
   "metadata": {},
   "outputs": [],
   "source": [
    "usda_pesticides_df = usda_causes_df[usda_causes_df['short_desc'].str.contains(\"AFFECTED BY PESTICIDES\")]\n",
    "#Removed \",\" from value columns\n",
    "usda_pesticides_df['Value']=usda_pesticides_df['Value'].str.replace(',','')\n",
    "#converted value column in pests from str to float\n",
    "usda_pesticides_df['Value'] = pd.to_numeric(usda_pesticides_df['Value'], errors='coerce')\n",
    "usda_pesticides_df"
   ]
  },
  {
   "cell_type": "code",
   "execution_count": null,
   "metadata": {},
   "outputs": [],
   "source": [
    "usda_disease_df = usda_causes_df[usda_causes_df['short_desc'].str.contains(\"AFFECTED BY DISEASE\")]\n",
    "#Removed \",\" from value columns\n",
    "usda_disease_df['Value']=usda_disease_df['Value'].str.replace(',','')\n",
    "#converted value column in pests from str to float\n",
    "usda_disease_df['Value'] = pd.to_numeric(usda_disease_df['Value'], errors='coerce')\n",
    "usda_disease_df.dropna(inplace=True)\n",
    "usda_disease_df"
   ]
  },
  {
   "cell_type": "code",
   "execution_count": null,
   "metadata": {},
   "outputs": [],
   "source": [
    "usda_varroa_mites_df = usda_causes_df[usda_causes_df['short_desc'].str.contains(\"AFFECTED BY VARROA MITES\")]\n",
    "#Removed \",\" from value columns\n",
    "usda_varroa_mites_df['Value']=usda_varroa_mites_df['Value'].str.replace(',','')\n",
    "#converted value column in pests from str to float\n",
    "usda_varroa_mites_df['Value'] = pd.to_numeric(usda_varroa_mites_df['Value'], errors='coerce')\n",
    "usda_varroa_mites_df"
   ]
  },
  {
   "cell_type": "code",
   "execution_count": null,
   "metadata": {},
   "outputs": [],
   "source": [
    "usda_unknown_causes_df = usda_causes_df[usda_causes_df['short_desc'].str.contains(\"AFFECTED BY UNKNOWN CAUSES\")]\n",
    "#Removed \",\" from value columns\n",
    "usda_unknown_causes_df['Value']=usda_unknown_causes_df['Value'].str.replace(',','')\n",
    "#converted value column in pests from str to float\n",
    "usda_unknown_causes_df['Value'] = pd.to_numeric(usda_unknown_causes_df['Value'], errors='coerce')\n",
    "usda_unknown_causes_df\n",
    "\n"
   ]
  },
  {
   "cell_type": "code",
   "execution_count": null,
   "metadata": {},
   "outputs": [],
   "source": [
    "import requests\n",
    "import numpy as np\n",
    "import pandas as pd\n",
    "import time\n",
    "from pprint import pprint\n",
    "from matplotlib import pyplot as plt\n",
    "from scipy import stats\n",
    "import psycopg2\n",
    "import time\n",
    "import pandas as pd\n",
    "from sqlalchemy import create_engine\n",
    "import psycopg2.extras as extras\n",
    "import io"
   ]
  },
  {
   "cell_type": "code",
   "execution_count": null,
   "metadata": {},
   "outputs": [],
   "source": [
    "#connecting python to postgres sql\n",
    "#loopback host ip=\"127.0.0.1\". can also be used to be specific.\n",
    "con = psycopg2.connect(database=\"postgres\", user=\"postgres\", password=\"trimpu88\", host=\"localhost\", port=\"5433\")\n",
    "print(\"successfull\")"
   ]
  },
  {
   "cell_type": "code",
   "execution_count": 23,
   "metadata": {},
   "outputs": [],
   "source": [
    "usda_location.to_csv('location.csv', index=False)\n",
    "usda_period.to_csv('period.csv', index=False)\n",
    "usda_product.to_csv('product.csv', index=False)\n",
    "usda_ccd_df.to_csv('ccd.csv', index=False)\n",
    "usda_pests_df.to_csv('pests.csv', index=False)\n",
    "usda_inventory_max_df.to_csv('inventory_max.csv', index=False)\n",
    "usda_other_causes_df.to_csv('other_causes.csv', index=False)\n",
    "usda_pesticides_df.to_csv('pesticides.csv', index=False)\n",
    "usda_disease_df.to_csv('disease.csv', index=False)\n",
    "usda_unknown_causes_df.to_csv('unknown_causes.csv', index=False)\n",
    "usda_varroa_mites_df.to_csv('varroa_mites.csv', index=False)\n"
   ]
  },
  {
   "cell_type": "code",
   "execution_count": null,
   "metadata": {},
   "outputs": [],
   "source": []
  },
  {
   "cell_type": "code",
   "execution_count": null,
   "metadata": {},
   "outputs": [],
   "source": []
  }
 ],
 "metadata": {
  "kernelspec": {
   "display_name": "Python 3",
   "language": "python",
   "name": "python3"
  },
  "language_info": {
   "codemirror_mode": {
    "name": "ipython",
    "version": 3
   },
   "file_extension": ".py",
   "mimetype": "text/x-python",
   "name": "python",
   "nbconvert_exporter": "python",
   "pygments_lexer": "ipython3",
   "version": "3.8.5"
  }
 },
 "nbformat": 4,
 "nbformat_minor": 4
}

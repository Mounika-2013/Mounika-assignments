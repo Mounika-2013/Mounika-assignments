{
 "cells": [
  {
   "cell_type": "markdown",
   "metadata": {},
   "source": [
    "Write a function that calculates the dot product manually AND a function that calculates the cross product manually. Both should accept two vectors and perform that calculation. Be sure to use try except and error handling for basic issues that might occur."
   ]
  },
  {
   "cell_type": "code",
   "execution_count": 18,
   "metadata": {},
   "outputs": [
    {
     "data": {
      "text/plain": [
       "array([[15, 21, 27],\n",
       "       [39, 54, 69],\n",
       "       [15, 21, 27]])"
      ]
     },
     "execution_count": 18,
     "metadata": {},
     "output_type": "execute_result"
    }
   ],
   "source": [
    "import numpy as np\n",
    "x = ([[1,2,3], [4,5,6], [1,2,3]])\n",
    "y = ([[2,3,4], [5,6,7], [1,2,3]])\n",
    "v1 = np.dot(x,y)\n",
    "v1"
   ]
  },
  {
   "cell_type": "code",
   "execution_count": 22,
   "metadata": {},
   "outputs": [
    {
     "data": {
      "text/plain": [
       "48"
      ]
     },
     "execution_count": 22,
     "metadata": {},
     "output_type": "execute_result"
    }
   ],
   "source": [
    "a=[2,6]\n",
    "b=[3,7]\n",
    "c=[]\n",
    "def dot1 (v1, v2):\n",
    "    for n1, n2 in zip(a,b):\n",
    "        c.append(n1*n2)\n",
    "    for i in range(len(c)):\n",
    "        for j in range(i+1, len(c)):\n",
    "            output = c[i]+c[j]\n",
    "    return output\n",
    "\n",
    "dot1(a,b)"
   ]
  },
  {
   "cell_type": "code",
   "execution_count": 21,
   "metadata": {},
   "outputs": [
    {
     "data": {
      "text/plain": [
       "48"
      ]
     },
     "execution_count": 21,
     "metadata": {},
     "output_type": "execute_result"
    }
   ],
   "source": [
    "dot1(a,b)"
   ]
  },
  {
   "cell_type": "code",
   "execution_count": 25,
   "metadata": {},
   "outputs": [
    {
     "data": {
      "text/plain": [
       "[(2, 3), (6, 7)]"
      ]
     },
     "execution_count": 25,
     "metadata": {},
     "output_type": "execute_result"
    }
   ],
   "source": [
    "list(zip(a,b))"
   ]
  },
  {
   "cell_type": "code",
   "execution_count": 156,
   "metadata": {},
   "outputs": [
    {
     "data": {
      "text/plain": [
       "48"
      ]
     },
     "execution_count": 156,
     "metadata": {},
     "output_type": "execute_result"
    }
   ],
   "source": [
    "def dotfunction(a,b):    \n",
    "    total = 0\n",
    "    for i,n in zip(a,b): \n",
    "        dot = i*n        \n",
    "        total = total + dot \n",
    "    return total\n",
    "\n",
    "a=[2,6]\n",
    "b=[3,7]\n",
    "dotfunction(a, b)"
   ]
  },
  {
   "cell_type": "markdown",
   "metadata": {},
   "source": [
    "# Cross product"
   ]
  },
  {
   "cell_type": "code",
   "execution_count": 173,
   "metadata": {},
   "outputs": [
    {
     "data": {
      "text/plain": [
       "array([-2, -7])"
      ]
     },
     "execution_count": 173,
     "metadata": {},
     "output_type": "execute_result"
    }
   ],
   "source": [
    "def cp(a,b):\n",
    "    try:\n",
    "        x1=a[0][0]*b[0][1]-a[0][1]*b[0][0]\n",
    "        x2=a[1][0]*b[1][1]-a[1][1]*b[1][0]\n",
    "    except:\n",
    "        pass\n",
    "    return np.array([x1, x2])\n",
    "a=([[1,2], [3,4]])\n",
    "b=([[2,2], [4,3]])\n",
    "cp(a,b)"
   ]
  },
  {
   "cell_type": "markdown",
   "metadata": {},
   "source": [
    "Question: In a markdown section in your notebook, explain what one hot encoding is and why we use it. Then, manually calculate a one hot encoding for the Belize_Airbnb_listings.csv neighborhood_group column. Note: manually means don’t use scikitlearn or keras."
   ]
  },
  {
   "cell_type": "markdown",
   "metadata": {},
   "source": [
    "Answer: Splitting of categorical data in a column to many columns. Each splitted column contains '0' or '1' with respect to categorical value."
   ]
  },
  {
   "cell_type": "code",
   "execution_count": 142,
   "metadata": {
    "scrolled": true
   },
   "outputs": [
    {
     "data": {
      "text/plain": [
       "0            Belize\n",
       "1            Belize\n",
       "2            Belize\n",
       "3       Stann Creek\n",
       "4            Belize\n",
       "           ...     \n",
       "2791         Belize\n",
       "2792        Corozal\n",
       "2793         Belize\n",
       "2794         Belize\n",
       "2795           Cayo\n",
       "Name: neighbourhood_group, Length: 2796, dtype: object"
      ]
     },
     "execution_count": 142,
     "metadata": {},
     "output_type": "execute_result"
    }
   ],
   "source": [
    "import pandas as pd\n",
    "belize_listings_path = \"belize_airbnb_listings.csv\"\n",
    "df = pd.read_csv(belize_listings_path)\n",
    "#neighbourhood_group column is assigned to ng_list\n",
    "ng_list = df['neighbourhood_group']\n",
    "#unique values assigned to a variable to get the data and make them as columns.\n",
    "ng_unique_list = df['neighbourhood_group'].unique()\n",
    "#Found lenth to create a dataframe using shape. \n",
    "ng_len = len(ng_list)\n",
    "ng_list"
   ]
  },
  {
   "cell_type": "code",
   "execution_count": 152,
   "metadata": {
    "scrolled": true
   },
   "outputs": [
    {
     "data": {
      "text/html": [
       "<div>\n",
       "<style scoped>\n",
       "    .dataframe tbody tr th:only-of-type {\n",
       "        vertical-align: middle;\n",
       "    }\n",
       "\n",
       "    .dataframe tbody tr th {\n",
       "        vertical-align: top;\n",
       "    }\n",
       "\n",
       "    .dataframe thead th {\n",
       "        text-align: right;\n",
       "    }\n",
       "</style>\n",
       "<table border=\"1\" class=\"dataframe\">\n",
       "  <thead>\n",
       "    <tr style=\"text-align: right;\">\n",
       "      <th></th>\n",
       "      <th>Belize</th>\n",
       "      <th>Stann Creek</th>\n",
       "      <th>Toledo</th>\n",
       "      <th>Cayo</th>\n",
       "      <th>Corozal</th>\n",
       "      <th>Orange Walk</th>\n",
       "    </tr>\n",
       "  </thead>\n",
       "  <tbody>\n",
       "    <tr>\n",
       "      <th>0</th>\n",
       "      <td>1.0</td>\n",
       "      <td>0.0</td>\n",
       "      <td>0.0</td>\n",
       "      <td>0.0</td>\n",
       "      <td>0.0</td>\n",
       "      <td>0.0</td>\n",
       "    </tr>\n",
       "    <tr>\n",
       "      <th>1</th>\n",
       "      <td>1.0</td>\n",
       "      <td>0.0</td>\n",
       "      <td>0.0</td>\n",
       "      <td>0.0</td>\n",
       "      <td>0.0</td>\n",
       "      <td>0.0</td>\n",
       "    </tr>\n",
       "    <tr>\n",
       "      <th>2</th>\n",
       "      <td>1.0</td>\n",
       "      <td>0.0</td>\n",
       "      <td>0.0</td>\n",
       "      <td>0.0</td>\n",
       "      <td>0.0</td>\n",
       "      <td>0.0</td>\n",
       "    </tr>\n",
       "    <tr>\n",
       "      <th>3</th>\n",
       "      <td>0.0</td>\n",
       "      <td>1.0</td>\n",
       "      <td>0.0</td>\n",
       "      <td>0.0</td>\n",
       "      <td>0.0</td>\n",
       "      <td>0.0</td>\n",
       "    </tr>\n",
       "    <tr>\n",
       "      <th>4</th>\n",
       "      <td>1.0</td>\n",
       "      <td>0.0</td>\n",
       "      <td>0.0</td>\n",
       "      <td>0.0</td>\n",
       "      <td>0.0</td>\n",
       "      <td>0.0</td>\n",
       "    </tr>\n",
       "    <tr>\n",
       "      <th>...</th>\n",
       "      <td>...</td>\n",
       "      <td>...</td>\n",
       "      <td>...</td>\n",
       "      <td>...</td>\n",
       "      <td>...</td>\n",
       "      <td>...</td>\n",
       "    </tr>\n",
       "    <tr>\n",
       "      <th>2791</th>\n",
       "      <td>1.0</td>\n",
       "      <td>0.0</td>\n",
       "      <td>0.0</td>\n",
       "      <td>0.0</td>\n",
       "      <td>0.0</td>\n",
       "      <td>0.0</td>\n",
       "    </tr>\n",
       "    <tr>\n",
       "      <th>2792</th>\n",
       "      <td>0.0</td>\n",
       "      <td>0.0</td>\n",
       "      <td>0.0</td>\n",
       "      <td>0.0</td>\n",
       "      <td>1.0</td>\n",
       "      <td>0.0</td>\n",
       "    </tr>\n",
       "    <tr>\n",
       "      <th>2793</th>\n",
       "      <td>1.0</td>\n",
       "      <td>0.0</td>\n",
       "      <td>0.0</td>\n",
       "      <td>0.0</td>\n",
       "      <td>0.0</td>\n",
       "      <td>0.0</td>\n",
       "    </tr>\n",
       "    <tr>\n",
       "      <th>2794</th>\n",
       "      <td>1.0</td>\n",
       "      <td>0.0</td>\n",
       "      <td>0.0</td>\n",
       "      <td>0.0</td>\n",
       "      <td>0.0</td>\n",
       "      <td>0.0</td>\n",
       "    </tr>\n",
       "    <tr>\n",
       "      <th>2795</th>\n",
       "      <td>0.0</td>\n",
       "      <td>0.0</td>\n",
       "      <td>0.0</td>\n",
       "      <td>1.0</td>\n",
       "      <td>0.0</td>\n",
       "      <td>0.0</td>\n",
       "    </tr>\n",
       "  </tbody>\n",
       "</table>\n",
       "<p>2796 rows × 6 columns</p>\n",
       "</div>"
      ],
      "text/plain": [
       "      Belize  Stann Creek  Toledo  Cayo  Corozal  Orange Walk\n",
       "0        1.0          0.0     0.0   0.0      0.0          0.0\n",
       "1        1.0          0.0     0.0   0.0      0.0          0.0\n",
       "2        1.0          0.0     0.0   0.0      0.0          0.0\n",
       "3        0.0          1.0     0.0   0.0      0.0          0.0\n",
       "4        1.0          0.0     0.0   0.0      0.0          0.0\n",
       "...      ...          ...     ...   ...      ...          ...\n",
       "2791     1.0          0.0     0.0   0.0      0.0          0.0\n",
       "2792     0.0          0.0     0.0   0.0      1.0          0.0\n",
       "2793     1.0          0.0     0.0   0.0      0.0          0.0\n",
       "2794     1.0          0.0     0.0   0.0      0.0          0.0\n",
       "2795     0.0          0.0     0.0   1.0      0.0          0.0\n",
       "\n",
       "[2796 rows x 6 columns]"
      ]
     },
     "execution_count": 152,
     "metadata": {},
     "output_type": "execute_result"
    }
   ],
   "source": [
    "#created a empty dataframe with all the data as 0.0. And used length of ng_list for rows, ng_unique_list length for columns\n",
    "new_df = pd.DataFrame(np.zeros((len(ng_list), (len(ng_unique_list)))))\n",
    "#renamed columned names\n",
    "new_df.rename(columns={0:'Belize', 1:'Stann Creek', 2:'Toledo',\n",
    "                      3:'Cayo', 4:'Corozal', 5:'Orange Walk'}, inplace=True)\n",
    "#For each index , value in ng_list\n",
    "for i, val in enumerate(ng_list):\n",
    "    #Ex: if index[0]==belize, enter the loop\n",
    "    if ng_list[i]=='Belize':\n",
    "        #make changes in 'new_df' dataframe with index as row and 'Belieze', assign to value 1\n",
    "        new_df.loc[i, 'Belize']=1\n",
    "    elif ng_list[i]=='Stann Creek':\n",
    "        new_df.loc[i,'Stann Creek']=1\n",
    "    elif ng_list[i]=='Toledo':\n",
    "        new_df.loc[i, 'Toledo']=1\n",
    "    elif ng_list[i]=='Cayo':\n",
    "        new_df.loc[i, 'Cayo']=1\n",
    "    elif ng_list[i]=='Corozal':\n",
    "        new_df.loc[i, 'Corozal']=1\n",
    "    else: \n",
    "        ng_list[i]=='Orange Walk'\n",
    "        new_df.loc[i, 'Orange Walk']=1\n",
    "\n",
    "new_df"
   ]
  }
 ],
 "metadata": {
  "kernelspec": {
   "display_name": "Python 3",
   "language": "python",
   "name": "python3"
  },
  "language_info": {
   "codemirror_mode": {
    "name": "ipython",
    "version": 3
   },
   "file_extension": ".py",
   "mimetype": "text/x-python",
   "name": "python",
   "nbconvert_exporter": "python",
   "pygments_lexer": "ipython3",
   "version": "3.8.5"
  }
 },
 "nbformat": 4,
 "nbformat_minor": 4
}

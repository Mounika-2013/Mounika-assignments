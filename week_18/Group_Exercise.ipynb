{
 "cells": [
  {
   "cell_type": "markdown",
   "metadata": {},
   "source": [
    "1.  Look up the Adam optimization functions in PyTorch https://pytorch.org/docs/stable/optim.html . How does it work? Try at least one other optimization function with the diabetes dataset shown in class. How does the model perform with the new optimizer? Did it perform better or worse than Adam? Why do you think that is?"
   ]
  },
  {
   "cell_type": "code",
   "execution_count": 2,
   "metadata": {},
   "outputs": [],
   "source": [
    "import pandas as pd\n",
    "import torch\n",
    "\n",
    "#diabetes_df = pd.read_csv(\"../week_13/diabetes.csv\")\n",
    "diabetes_df = pd.read_csv(\"diabetes.csv\")"
   ]
  },
  {
   "cell_type": "code",
   "execution_count": 3,
   "metadata": {},
   "outputs": [],
   "source": [
    "from sklearn.model_selection import train_test_split\n",
    "from sklearn.preprocessing import StandardScaler\n",
    "\n",
    "X = diabetes_df.drop('Outcome', axis = 1).values\n",
    "y= diabetes_df['Outcome'].values\n",
    "\n",
    "X_train, X_test, y_train, y_test = train_test_split(X, y, test_size=0.2, random_state=42)\n",
    "\n",
    "sc=StandardScaler()\n",
    "X_train = sc.fit_transform(X_train)\n",
    "X_test = sc.fit_transform(X_test)"
   ]
  },
  {
   "cell_type": "code",
   "execution_count": 4,
   "metadata": {},
   "outputs": [
    {
     "name": "stdout",
     "output_type": "stream",
     "text": [
      "tensor([[-0.5264, -1.1514, -3.7527,  ..., -4.1353, -0.4907, -1.0359],\n",
      "        [ 1.5880, -0.2766,  0.6803,  ..., -0.4892,  2.4150,  1.4871],\n",
      "        [-0.8285,  0.5669, -1.2659,  ..., -0.4245,  0.5492, -0.9489],\n",
      "        ...,\n",
      "        [ 1.8901, -0.6203,  0.8966,  ...,  1.7605,  1.9812,  0.4431],\n",
      "        [-1.1305,  0.6294, -3.7527,  ...,  1.3468, -0.7849, -0.3399],\n",
      "        [-1.1305,  0.1295,  1.4372,  ..., -1.2261, -0.6155, -1.0359]])\n"
     ]
    }
   ],
   "source": [
    "import torch.nn as nn\n",
    "import torch.nn.functional as F # this has activation functions\n",
    "\n",
    "#Creating tensors\n",
    "X_train=torch.FloatTensor(X_train)\n",
    "X_test = torch.FloatTensor(X_test)\n",
    "\n",
    "y_train = torch.LongTensor(y_train)\n",
    "y_test = torch.LongTensor(y_test)\n",
    "\n",
    "print(X_train)"
   ]
  },
  {
   "cell_type": "code",
   "execution_count": 5,
   "metadata": {},
   "outputs": [],
   "source": [
    "#ANN-\n",
    "class ANN_Model(nn.Module):\n",
    "    def __init__(self, input_features=8, hidden1=20, hidden2=20, out_features=2):\n",
    "        super().__init__()\n",
    "        self.layer_1_connection = nn.Linear(input_features, hidden1)\n",
    "        self.layer_2_connection = nn.Linear(hidden1, hidden2)\n",
    "        self.out = nn.Linear(hidden2, out_features)\n",
    "    \n",
    "    def forward(self, x):\n",
    "        #apply activation functions\n",
    "        x = F.relu(self.layer_1_connection(x))\n",
    "        x = F.relu(self.layer_2_connection(x))\n",
    "        x = self.out(x)\n",
    "        return x"
   ]
  },
  {
   "cell_type": "code",
   "execution_count": 6,
   "metadata": {},
   "outputs": [],
   "source": [
    "torch.manual_seed(42)\n",
    "\n",
    "#instantiate the model\n",
    "model = ANN_Model()"
   ]
  },
  {
   "cell_type": "code",
   "execution_count": 7,
   "metadata": {},
   "outputs": [],
   "source": [
    "# Loss function\n",
    "loss_function = nn.CrossEntropyLoss() # we us ethis when output is 1D array\n",
    "\n",
    "#optimizer\n",
    "optimizer = torch.optim.AdamW(model.parameters(), lr=0.01)"
   ]
  },
  {
   "cell_type": "code",
   "execution_count": 8,
   "metadata": {},
   "outputs": [
    {
     "name": "stdout",
     "output_type": "stream",
     "text": [
      "Epoch number: 1 with loss: 0.645485520362854\n",
      "Epoch number: 11 with loss: 0.5144227743148804\n",
      "Epoch number: 21 with loss: 0.44499167799949646\n",
      "Epoch number: 31 with loss: 0.41550034284591675\n",
      "Epoch number: 41 with loss: 0.3919016420841217\n",
      "Epoch number: 51 with loss: 0.37308230996131897\n",
      "Epoch number: 61 with loss: 0.3526579439640045\n",
      "Epoch number: 71 with loss: 0.3297068476676941\n",
      "Epoch number: 81 with loss: 0.3071591854095459\n",
      "Epoch number: 91 with loss: 0.28145256638526917\n",
      "Epoch number: 101 with loss: 0.2539352774620056\n",
      "Epoch number: 111 with loss: 0.2274172604084015\n",
      "Epoch number: 121 with loss: 0.2041633576154709\n",
      "Epoch number: 131 with loss: 0.18220561742782593\n",
      "Epoch number: 141 with loss: 0.160827174782753\n",
      "Epoch number: 151 with loss: 0.14323477447032928\n",
      "Epoch number: 161 with loss: 0.12870272994041443\n",
      "Epoch number: 171 with loss: 0.11536606401205063\n",
      "Epoch number: 181 with loss: 0.10373659431934357\n",
      "Epoch number: 191 with loss: 0.09331964701414108\n",
      "Epoch number: 201 with loss: 0.08359021693468094\n",
      "Epoch number: 211 with loss: 0.07369270920753479\n",
      "Epoch number: 221 with loss: 0.0647435188293457\n",
      "Epoch number: 231 with loss: 0.0567459836602211\n",
      "Epoch number: 241 with loss: 0.049244437366724014\n",
      "Epoch number: 251 with loss: 0.04335299879312515\n",
      "Epoch number: 261 with loss: 0.03850651904940605\n",
      "Epoch number: 271 with loss: 0.03379489853978157\n",
      "Epoch number: 281 with loss: 0.029610982164740562\n",
      "Epoch number: 291 with loss: 0.026185765862464905\n",
      "Epoch number: 301 with loss: 0.02319493144750595\n",
      "Epoch number: 311 with loss: 0.02062157168984413\n",
      "Epoch number: 321 with loss: 0.01838483288884163\n",
      "Epoch number: 331 with loss: 0.0164606012403965\n",
      "Epoch number: 341 with loss: 0.014878443442285061\n",
      "Epoch number: 351 with loss: 0.013524220325052738\n",
      "Epoch number: 361 with loss: 0.012341588735580444\n",
      "Epoch number: 371 with loss: 0.011323950253427029\n",
      "Epoch number: 381 with loss: 0.01044828537851572\n",
      "Epoch number: 391 with loss: 0.00964961014688015\n",
      "Epoch number: 401 with loss: 0.008922087959945202\n",
      "Epoch number: 411 with loss: 0.008308366872370243\n",
      "Epoch number: 421 with loss: 0.007737317588180304\n",
      "Epoch number: 431 with loss: 0.007231320720165968\n",
      "Epoch number: 441 with loss: 0.0067892842926084995\n",
      "Epoch number: 451 with loss: 0.006371255498379469\n",
      "Epoch number: 461 with loss: 0.005988846533000469\n",
      "Epoch number: 471 with loss: 0.005634760018438101\n",
      "Epoch number: 481 with loss: 0.0052991583943367004\n",
      "Epoch number: 491 with loss: 0.004994641058146954\n"
     ]
    }
   ],
   "source": [
    "#run model through multiple epochs/iterations\n",
    "final_loss=[]\n",
    "n_epochs = 500\n",
    "for epoch in range(n_epochs):\n",
    "    y_pred = model.forward(X_train)\n",
    "    loss = loss_function(y_pred, y_train)\n",
    "    final_loss.append(loss)\n",
    "    \n",
    "    if epoch % 10 ==1:\n",
    "        print(f'Epoch number: {epoch} with loss: {loss.item()}')\n",
    "        \n",
    "    optimizer.zero_grad() #zero the gradient before running backwards\n",
    "    loss.backward() #for backward propagation\n",
    "    optimizer.step() #performs one optimization step each epoch"
   ]
  },
  {
   "cell_type": "code",
   "execution_count": 9,
   "metadata": {},
   "outputs": [],
   "source": [
    "#predictions\n",
    "y_pred = []\n",
    "\n",
    "with torch.no_grad():\n",
    "    for i, data in enumerate(X_test):\n",
    "        prediction = model(data)\n",
    "        y_pred.append(prediction.argmax().item())"
   ]
  },
  {
   "cell_type": "code",
   "execution_count": 10,
   "metadata": {},
   "outputs": [
    {
     "data": {
      "text/plain": [
       "0.7207792207792207"
      ]
     },
     "execution_count": 10,
     "metadata": {},
     "output_type": "execute_result"
    }
   ],
   "source": [
    "from sklearn.metrics import accuracy_score\n",
    "a_score = accuracy_score(y_test, y_pred)\n",
    "a_score"
   ]
  },
  {
   "cell_type": "code",
   "execution_count": 11,
   "metadata": {},
   "outputs": [
    {
     "name": "stdout",
     "output_type": "stream",
     "text": [
      "              precision    recall  f1-score   support\n",
      "\n",
      "           0       0.78      0.79      0.78        99\n",
      "           1       0.61      0.60      0.61        55\n",
      "\n",
      "    accuracy                           0.72       154\n",
      "   macro avg       0.70      0.69      0.69       154\n",
      "weighted avg       0.72      0.72      0.72       154\n",
      "\n"
     ]
    }
   ],
   "source": [
    "from sklearn.metrics import classification_report\n",
    "\n",
    "print(classification_report(y_test, y_pred))"
   ]
  },
  {
   "cell_type": "markdown",
   "metadata": {},
   "source": [
    "#RMSprop - 714\n",
    "#Adamax - 714\n",
    "#adamw: 720\n",
    "#adagrad - 7077\n",
    "#Adadelta\n",
    "\n",
    "AdamW performed more accuracy compared to all other optimizers. "
   ]
  },
  {
   "cell_type": "markdown",
   "metadata": {},
   "source": [
    "2.  Write a function that lists and counts the number of divisors for an input value.\n",
    "Example 1:\n",
    "Input: 5\n",
    "Output: “There are 2 divisors: 1 and 5”\n",
    "Example 2:\n",
    "Input: 40\n",
    "Output: “There are 8 divisors: 1, 2, 4, 5, 8, 10, 20, and 40”"
   ]
  },
  {
   "cell_type": "code",
   "execution_count": 89,
   "metadata": {},
   "outputs": [
    {
     "name": "stdout",
     "output_type": "stream",
     "text": [
      "There are 1 divisors: 1 and 1\n",
      "There are 2 divisors: 2 and 2\n",
      "There are 3 divisors: 4 and 4\n",
      "There are 4 divisors: 5 and 5\n",
      "There are 5 divisors: 8 and 8\n",
      "There are 6 divisors: 10 and 10\n",
      "There are 7 divisors: 20 and 20\n",
      "There are 8 divisors: 40 and 40\n"
     ]
    }
   ],
   "source": [
    "def div_func(n):\n",
    "    #num_list = [1,2,3,4,5,6,7,8,9,10]\n",
    "    count=0\n",
    "    empty = []\n",
    "    for each in range(1,100):\n",
    "        if n%each==0:\n",
    "            count=count+1\n",
    "            empty.append(each)\n",
    "            #print(empty)\n",
    "            last_num = empty.pop()\n",
    "            print (\"There are\",count,\"divisors:\",each, \"and\",last_num)\n",
    "div_func(40)"
   ]
  },
  {
   "cell_type": "code",
   "execution_count": null,
   "metadata": {},
   "outputs": [],
   "source": []
  },
  {
   "cell_type": "code",
   "execution_count": null,
   "metadata": {},
   "outputs": [],
   "source": []
  }
 ],
 "metadata": {
  "kernelspec": {
   "display_name": "Python 3",
   "language": "python",
   "name": "python3"
  },
  "language_info": {
   "codemirror_mode": {
    "name": "ipython",
    "version": 3
   },
   "file_extension": ".py",
   "mimetype": "text/x-python",
   "name": "python",
   "nbconvert_exporter": "python",
   "pygments_lexer": "ipython3",
   "version": "3.8.5"
  }
 },
 "nbformat": 4,
 "nbformat_minor": 4
}

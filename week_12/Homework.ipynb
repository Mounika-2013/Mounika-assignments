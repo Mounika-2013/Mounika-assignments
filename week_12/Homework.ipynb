{
 "cells": [
  {
   "cell_type": "code",
   "execution_count": 349,
   "metadata": {
    "scrolled": false
   },
   "outputs": [
    {
     "data": {
      "text/html": [
       "<div>\n",
       "<style scoped>\n",
       "    .dataframe tbody tr th:only-of-type {\n",
       "        vertical-align: middle;\n",
       "    }\n",
       "\n",
       "    .dataframe tbody tr th {\n",
       "        vertical-align: top;\n",
       "    }\n",
       "\n",
       "    .dataframe thead th {\n",
       "        text-align: right;\n",
       "    }\n",
       "</style>\n",
       "<table border=\"1\" class=\"dataframe\">\n",
       "  <thead>\n",
       "    <tr style=\"text-align: right;\">\n",
       "      <th></th>\n",
       "      <th>emp_title</th>\n",
       "      <th>emp_length</th>\n",
       "      <th>state</th>\n",
       "      <th>homeownership</th>\n",
       "      <th>annual_income</th>\n",
       "      <th>verified_income</th>\n",
       "      <th>debt_to_income</th>\n",
       "      <th>annual_income_joint</th>\n",
       "      <th>verification_income_joint</th>\n",
       "      <th>debt_to_income_joint</th>\n",
       "      <th>...</th>\n",
       "      <th>sub_grade</th>\n",
       "      <th>issue_month</th>\n",
       "      <th>loan_status</th>\n",
       "      <th>initial_listing_status</th>\n",
       "      <th>disbursement_method</th>\n",
       "      <th>balance</th>\n",
       "      <th>paid_total</th>\n",
       "      <th>paid_principal</th>\n",
       "      <th>paid_interest</th>\n",
       "      <th>paid_late_fees</th>\n",
       "    </tr>\n",
       "  </thead>\n",
       "  <tbody>\n",
       "    <tr>\n",
       "      <th>0</th>\n",
       "      <td>global config engineer</td>\n",
       "      <td>3.0</td>\n",
       "      <td>NJ</td>\n",
       "      <td>MORTGAGE</td>\n",
       "      <td>90000.0</td>\n",
       "      <td>Verified</td>\n",
       "      <td>18.01</td>\n",
       "      <td>NaN</td>\n",
       "      <td>NaN</td>\n",
       "      <td>NaN</td>\n",
       "      <td>...</td>\n",
       "      <td>C3</td>\n",
       "      <td>Mar-2018</td>\n",
       "      <td>Current</td>\n",
       "      <td>whole</td>\n",
       "      <td>Cash</td>\n",
       "      <td>27015.86</td>\n",
       "      <td>1999.33</td>\n",
       "      <td>984.14</td>\n",
       "      <td>1015.19</td>\n",
       "      <td>0.0</td>\n",
       "    </tr>\n",
       "    <tr>\n",
       "      <th>1</th>\n",
       "      <td>warehouse office clerk</td>\n",
       "      <td>10.0</td>\n",
       "      <td>HI</td>\n",
       "      <td>RENT</td>\n",
       "      <td>40000.0</td>\n",
       "      <td>Not Verified</td>\n",
       "      <td>5.04</td>\n",
       "      <td>NaN</td>\n",
       "      <td>NaN</td>\n",
       "      <td>NaN</td>\n",
       "      <td>...</td>\n",
       "      <td>C1</td>\n",
       "      <td>Feb-2018</td>\n",
       "      <td>Current</td>\n",
       "      <td>whole</td>\n",
       "      <td>Cash</td>\n",
       "      <td>4651.37</td>\n",
       "      <td>499.12</td>\n",
       "      <td>348.63</td>\n",
       "      <td>150.49</td>\n",
       "      <td>0.0</td>\n",
       "    </tr>\n",
       "  </tbody>\n",
       "</table>\n",
       "<p>2 rows × 55 columns</p>\n",
       "</div>"
      ],
      "text/plain": [
       "                 emp_title  emp_length state homeownership  annual_income  \\\n",
       "0  global config engineer          3.0    NJ      MORTGAGE        90000.0   \n",
       "1   warehouse office clerk        10.0    HI          RENT        40000.0   \n",
       "\n",
       "  verified_income  debt_to_income  annual_income_joint  \\\n",
       "0        Verified           18.01                  NaN   \n",
       "1    Not Verified            5.04                  NaN   \n",
       "\n",
       "  verification_income_joint  debt_to_income_joint  ...  sub_grade  \\\n",
       "0                       NaN                   NaN  ...         C3   \n",
       "1                       NaN                   NaN  ...         C1   \n",
       "\n",
       "   issue_month  loan_status  initial_listing_status  disbursement_method  \\\n",
       "0     Mar-2018      Current                   whole                 Cash   \n",
       "1     Feb-2018      Current                   whole                 Cash   \n",
       "\n",
       "    balance  paid_total  paid_principal  paid_interest  paid_late_fees  \n",
       "0  27015.86     1999.33          984.14        1015.19             0.0  \n",
       "1   4651.37      499.12          348.63         150.49             0.0  \n",
       "\n",
       "[2 rows x 55 columns]"
      ]
     },
     "execution_count": 349,
     "metadata": {},
     "output_type": "execute_result"
    }
   ],
   "source": [
    "import pandas as pd\n",
    "df = pd.read_csv (r'loans_full_schema.csv')\n",
    "df.head(2)"
   ]
  },
  {
   "cell_type": "markdown",
   "metadata": {},
   "source": [
    "1. In 250-500 words, write a thorough discussion of when to use ML and when not to. Do NOT go over the 500-word limit. It is essential to express this concisely. This should be informed by the Machine Learning for Business DataCamp course. "
   ]
  },
  {
   "cell_type": "markdown",
   "metadata": {},
   "source": [
    "In order to make successful ML models, first step is to have concrete infrastructures to collect, store and prepare data as needed. \n",
    "Business requirements i.e., the scope should be clear. Understand the business situation (problem), find the solutions(opportunities on what percenatge of this makes the difference)and make changes(actions on improving the situations).\n",
    "Once the requirements are clear collect the sample dataset and train the model to detect patterns. Perform model performance measurements on unseen dataset. \n",
    "Target variables must be clearly defined before modeling.  \n",
    "When the data is not accurate, it is not at all good to perform ML models. And not at all advisable to deploy Low precision, low recall and large regression errored models. Need to make sure the amount of risk business is willing to accept if something goes wrong. \n",
    "Risky to deploy models without enough testing window/late testing. "
   ]
  },
  {
   "cell_type": "markdown",
   "metadata": {},
   "source": [
    "2. Perform pre-processing on the Lending Club dataset from class. Clearly use markdown to indicate each pre-processing step you are using. Note: you should use at least three different techniques."
   ]
  },
  {
   "cell_type": "code",
   "execution_count": null,
   "metadata": {},
   "outputs": [],
   "source": [
    "#homeownership column is ordinal, so it can be encoding \n",
    "homeownership_col = {'MORTGAGE': 1, 'RENT': 2}\n",
    "df['homeownership']=df['homeownership'].map(homeownership_col)\n",
    "df.head(1)"
   ]
  },
  {
   "cell_type": "code",
   "execution_count": null,
   "metadata": {},
   "outputs": [],
   "source": [
    "#nominal\n",
    "from sklearn.preprocessing import LabelEncoder\n",
    "class_labels = LabelEncoder()\n",
    "df['verified_income']=class_labels.fit_transform(df['verified_income'].values)\n",
    "df.head(5)"
   ]
  },
  {
   "cell_type": "code",
   "execution_count": null,
   "metadata": {},
   "outputs": [],
   "source": [
    "#one hot-encoding on categorical data\n",
    "df = pd.get_dummies(df[['initial_listing_status', 'loan_status','disbursement_method']])\n",
    "df"
   ]
  },
  {
   "cell_type": "markdown",
   "metadata": {},
   "source": [
    "3. Create a correlation matrix with a heatmap for the features in the Lending Club dataset. Use markdown to write about your takeaways in under 250 words."
   ]
  },
  {
   "cell_type": "code",
   "execution_count": null,
   "metadata": {},
   "outputs": [],
   "source": [
    "import pandas as pd\n",
    "import seaborn as sns\n",
    "import matplotlib.pyplot as plt\n",
    "correlation_matrix = df.corr()\n",
    "print(correlation_matrix)"
   ]
  },
  {
   "cell_type": "code",
   "execution_count": null,
   "metadata": {},
   "outputs": [],
   "source": [
    "\n",
    "corr_pairs = correlation_matrix.unstack()\n",
    "#print(corr_pairs)\n",
    "sorted_corr_pairs = corr_pairs.sort_values(kind=\"quicksort\")\n",
    "print(sorted_corr_pairs)"
   ]
  },
  {
   "cell_type": "code",
   "execution_count": 363,
   "metadata": {
    "scrolled": false
   },
   "outputs": [
    {
     "data": {
      "image/png": "[encoded data removed]",
      "text/plain": [
       "<Figure size 1080x720 with 2 Axes>"
      ]
     },
     "metadata": {
      "needs_background": "light"
     },
     "output_type": "display_data"
    }
   ],
   "source": [
    "f_size = plt.figure(figsize=(15, 10))\n",
    "corrMatrix = df.corr()\n",
    "sns.heatmap(corrMatrix, annot=False)\n",
    "#annot gives the correlation coeffient value in each grid\n",
    "plt.show()"
   ]
  },
  {
   "cell_type": "markdown",
   "metadata": {},
   "source": [
    "* All elements in the diagonal are equal to 1, i.e., it represents correlation of a variable to itself. \n",
    "Features/ columns that are close to 1.0 indicates strong positive corelation between them like emp_length to emp_length columns. \n",
    "* Columns such as num_satisfactory_accounts, num_accounts_120d_past_due that are close to 0.0 are neither positive nor negative. That is they don't have any correlation between them.\n",
    "These two features are independent to each other. \n",
    "* Our correlation matrix is symmetric, i.e., number of rows is equal to number of columns. \n"
   ]
  },
  {
   "cell_type": "markdown",
   "metadata": {},
   "source": [
    "4. Create a histogram showing the frequency of loan_amounts. Describe what you see. Pay special attention to bin sizes, and clearly describe how you chose your bin sizes. "
   ]
  },
  {
   "cell_type": "code",
   "execution_count": null,
   "metadata": {},
   "outputs": [],
   "source": [
    "bin_size = len(df['loan_amount'])\n",
    "#Rice's rule to find bin size - Rice’s rule is defined as: (cube root of the number of observations) * 2.\n",
    "def cube_root(x):\n",
    "    return x**(1/3)\n",
    "my_bin = int(cube_root(bin_size)*2)\n",
    "my_bin"
   ]
  },
  {
   "cell_type": "markdown",
   "metadata": {},
   "source": [
    "Bin size is usually based on how to want to present the data visually, like if we select larger bin sizes then width gets narrowed. \n",
    "If the bin size is small, lets say for ex: bins=5, then plot will be too broader and there is nothing much to capture.\n",
    "Bin size should be optimal to make it visually good. \n",
    "Here I used rice rule to calculate the optimal bin size that works for the data.\n",
    "With optimal bin size, it is visually clear to check the distribution in loan amount. \n",
    "Whereas with low bin sizes, like 5, 10, distribution is compact. "
   ]
  },
  {
   "cell_type": "code",
   "execution_count": 265,
   "metadata": {
    "scrolled": true
   },
   "outputs": [
    {
     "data": {
      "image/png": "[encoded data removed]",
      "text/plain": [
       "<Figure size 504x360 with 1 Axes>"
      ]
     },
     "metadata": {
      "needs_background": "light"
     },
     "output_type": "display_data"
    }
   ],
   "source": [
    "import matplotlib.pyplot as plt\n",
    "%matplotlib inline\n",
    "#prints plot here once the code is executed\n",
    "plt.figure(figsize=[7,5])\n",
    "n, bins, patches = plt.hist(x=df[\"loan_amount\"], bins=my_bin, color='green', alpha=0.75, rwidth=0.8)\n",
    "plt.xlabel('loan_amount')\n",
    "plt.ylabel('Frequency')\n",
    "plt.title(\"Frequency of Loan amounts\")\n",
    "plt.show()"
   ]
  },
  {
   "cell_type": "markdown",
   "metadata": {},
   "source": [
    "5. Create a new column called region that uses a lambda and shows which part of the US someone lives in, split up into Pacific, Plains, Midwest, Northeast, and South. Consider having your lambda call a function. \n",
    "Is there a better way to do this than with a lambda? \n",
    "Either use two different lambdas or a lambda and a different technique and see which one is more performant. Explain your findings in the markdown. "
   ]
  },
  {
   "cell_type": "code",
   "execution_count": null,
   "metadata": {},
   "outputs": [],
   "source": [
    "import pandas as pd\n",
    "df = pd.read_csv (r'loans_full_schema.csv')\n",
    "df.head(2)"
   ]
  },
  {
   "cell_type": "code",
   "execution_count": 387,
   "metadata": {},
   "outputs": [],
   "source": [
    "#Created list based on regions\n",
    "pacific = ['AL','CA','HI','WA','OR','AZ', 'CO', 'MT', 'ID', 'NV', 'NM', 'UT', 'WY']\n",
    "plains= ['IA', 'KS','MN', 'MO', 'NE','ND','SD']\n",
    "northeast=['CT', 'ME', 'MA','NH', 'RI', 'VT', 'NJ', 'NY', 'PA']\n",
    "south = ['FL','DE', 'MD', 'GE', 'NC', 'SC', 'VA','DC','WV','AL','KY','MS','TN','AR','LA', 'TX','OK']\n",
    "midwest = ['IL', 'IN','MI', 'OH','WI']  \n"
   ]
  },
  {
   "cell_type": "code",
   "execution_count": 388,
   "metadata": {},
   "outputs": [
    {
     "name": "stdout",
     "output_type": "stream",
     "text": [
      "0.00041653000153019093\n"
     ]
    }
   ],
   "source": [
    "tic1=time.perf_counter()\n",
    "def reg_func(r):\n",
    "    for each in df['state']:\n",
    "        for p in pacific:\n",
    "            if each==p:\n",
    "                return pd.Series(\"pacific\")\n",
    "        for l in plains:\n",
    "            if each==l:\n",
    "                return pd.Series(\"plains\")\n",
    "                #pass\n",
    "        for n in northeast:\n",
    "            if each==n:\n",
    "                return pd.Series(\"northeast\")\n",
    "        for s in south:\n",
    "            if each==s:\n",
    "                return pd.Series(\"south\")\n",
    "        for m in midwest:\n",
    "            if each==m:\n",
    "                return pd.Series(\"midwest\")\n",
    "toc2=time.perf_counter()\n",
    "print(toc2-tic1)\n",
    "f = reg_func(df['state'])"
   ]
  },
  {
   "cell_type": "code",
   "execution_count": 389,
   "metadata": {},
   "outputs": [],
   "source": [
    "def reg_func1(r):\n",
    "    for p in pacific:\n",
    "        if r==p:\n",
    "            return pd.Series(\"pacific\")\n",
    "    for l in plains:\n",
    "        if r==l:\n",
    "            return pd.Series(\"plains\")\n",
    "    for n in northeast:\n",
    "        if r==n:\n",
    "            return pd.Series(\"northeast\")\n",
    "    for s in south:\n",
    "        if r==s:\n",
    "            return pd.Series(\"south\")\n",
    "    for m in midwest:\n",
    "        if r==m:\n",
    "            return pd.Series(\"midwest\")\n",
    "   "
   ]
  },
  {
   "cell_type": "code",
   "execution_count": 390,
   "metadata": {},
   "outputs": [],
   "source": [
    "def reg_func2(r):\n",
    "    if r in pacific:\n",
    "        return pd.Series(\"pacific\")\n",
    "    elif r in plains:\n",
    "        return pd.Series(\"plains\")\n",
    "    elif r in northeast:\n",
    "        return pd.Series(\"northeast\")\n",
    "    elif r in south:\n",
    "        return pd.Series(\"south\")\n",
    "    else:\n",
    "        return pd.Series(\"midwest\")"
   ]
  },
  {
   "cell_type": "code",
   "execution_count": 391,
   "metadata": {},
   "outputs": [
    {
     "name": "stdout",
     "output_type": "stream",
     "text": [
      "2.8382026979998045\n"
     ]
    }
   ],
   "source": [
    "t1=time.perf_counter()\n",
    "df['region']=df.apply(lambda x: reg_func2(x['state']), axis=1)\n",
    "t2 = time.perf_counter()\n",
    "print(t2-t1)\n",
    "#df.head(1)"
   ]
  },
  {
   "cell_type": "code",
   "execution_count": 392,
   "metadata": {
    "scrolled": true
   },
   "outputs": [
    {
     "name": "stdout",
     "output_type": "stream",
     "text": [
      "0.00014955399819882587\n"
     ]
    }
   ],
   "source": [
    "# Python program to show time by perf_counter() \n",
    "import time\n",
    "tic=time.perf_counter()\n",
    "def region_func3(reg):\n",
    "    \"\"\"Returns list of regions if the state is in the region that met the if condition \"\"\"\n",
    "    func=(lambda x: \"plains\"  if x in plains else (\"midwest\" if x in midwest else (\"pacific\" if x in pacific else (\"south\" if x in south else \"northeast\"))) )\n",
    "    #map applies the function to all the elements in the sequence. but it prints the location in the memory, so convert it to list. \n",
    "    #list return all output in list formate. \n",
    "    func1 = list(map(func, df['state']))\n",
    "    return func1\n",
    "toc = time.perf_counter()\n",
    "print(toc-tic)\n",
    "    \n",
    "\n",
    "region_func = region_func3(df['state'])\n",
    "\n",
    "#region_func\n",
    "#Created 'region' column in the existing data frame\n",
    "#df['region']=region_func\n",
    "\n",
    "    \n",
    "    \n"
   ]
  },
  {
   "cell_type": "markdown",
   "metadata": {},
   "source": [
    "region_func3: Using lambda within a function is more effective and took less processing time compared to loops. \n",
    "\n",
    "reg_func2: Passing function within lambda syntax, code looks very effective- sigle line code. But processing time is more, as it has to execute the for loops within function and then execute the lambda. "
   ]
  },
  {
   "cell_type": "markdown",
   "metadata": {},
   "source": [
    "6. Create subplot histograms to show if loan_amounts differ by region. Summarize your findings."
   ]
  },
  {
   "cell_type": "code",
   "execution_count": 420,
   "metadata": {
    "scrolled": false
   },
   "outputs": [
    {
     "data": {
      "text/html": [
       "<div>\n",
       "<style scoped>\n",
       "    .dataframe tbody tr th:only-of-type {\n",
       "        vertical-align: middle;\n",
       "    }\n",
       "\n",
       "    .dataframe tbody tr th {\n",
       "        vertical-align: top;\n",
       "    }\n",
       "\n",
       "    .dataframe thead th {\n",
       "        text-align: right;\n",
       "    }\n",
       "</style>\n",
       "<table border=\"1\" class=\"dataframe\">\n",
       "  <thead>\n",
       "    <tr style=\"text-align: right;\">\n",
       "      <th></th>\n",
       "      <th>emp_title</th>\n",
       "      <th>emp_length</th>\n",
       "      <th>state</th>\n",
       "      <th>homeownership</th>\n",
       "      <th>annual_income</th>\n",
       "      <th>verified_income</th>\n",
       "      <th>debt_to_income</th>\n",
       "      <th>annual_income_joint</th>\n",
       "      <th>verification_income_joint</th>\n",
       "      <th>debt_to_income_joint</th>\n",
       "      <th>...</th>\n",
       "      <th>issue_month</th>\n",
       "      <th>loan_status</th>\n",
       "      <th>initial_listing_status</th>\n",
       "      <th>disbursement_method</th>\n",
       "      <th>balance</th>\n",
       "      <th>paid_total</th>\n",
       "      <th>paid_principal</th>\n",
       "      <th>paid_interest</th>\n",
       "      <th>paid_late_fees</th>\n",
       "      <th>region</th>\n",
       "    </tr>\n",
       "  </thead>\n",
       "  <tbody>\n",
       "    <tr>\n",
       "      <th>0</th>\n",
       "      <td>global config engineer</td>\n",
       "      <td>3.0</td>\n",
       "      <td>NJ</td>\n",
       "      <td>MORTGAGE</td>\n",
       "      <td>90000.0</td>\n",
       "      <td>Verified</td>\n",
       "      <td>18.01</td>\n",
       "      <td>NaN</td>\n",
       "      <td>NaN</td>\n",
       "      <td>NaN</td>\n",
       "      <td>...</td>\n",
       "      <td>Mar-2018</td>\n",
       "      <td>Current</td>\n",
       "      <td>whole</td>\n",
       "      <td>Cash</td>\n",
       "      <td>27015.86</td>\n",
       "      <td>1999.33</td>\n",
       "      <td>984.14</td>\n",
       "      <td>1015.19</td>\n",
       "      <td>0.0</td>\n",
       "      <td>northeast</td>\n",
       "    </tr>\n",
       "  </tbody>\n",
       "</table>\n",
       "<p>1 rows × 56 columns</p>\n",
       "</div>"
      ],
      "text/plain": [
       "                 emp_title  emp_length state homeownership  annual_income  \\\n",
       "0  global config engineer          3.0    NJ      MORTGAGE        90000.0   \n",
       "\n",
       "  verified_income  debt_to_income  annual_income_joint  \\\n",
       "0        Verified           18.01                  NaN   \n",
       "\n",
       "  verification_income_joint  debt_to_income_joint  ...  issue_month  \\\n",
       "0                       NaN                   NaN  ...     Mar-2018   \n",
       "\n",
       "   loan_status  initial_listing_status  disbursement_method   balance  \\\n",
       "0      Current                   whole                 Cash  27015.86   \n",
       "\n",
       "   paid_total  paid_principal  paid_interest  paid_late_fees     region  \n",
       "0     1999.33          984.14        1015.19             0.0  northeast  \n",
       "\n",
       "[1 rows x 56 columns]"
      ]
     },
     "execution_count": 420,
     "metadata": {},
     "output_type": "execute_result"
    }
   ],
   "source": [
    "df.head(1)"
   ]
  },
  {
   "cell_type": "code",
   "execution_count": 422,
   "metadata": {},
   "outputs": [],
   "source": [
    "grouped_pacific = df.groupby(['region']).get_group(\"pacific\")\n",
    "grouped_plains = df.groupby(['region']).get_group(\"plains\")\n",
    "grouped_northeast = df.groupby(['region']).get_group(\"northeast\")\n",
    "grouped_south = df.groupby(['region']).get_group(\"south\")\n",
    "grouped_midwest = df.groupby(['region']).get_group(\"midwest\")\n",
    " #df.groupby([\"A\", \"B\"]).get_group((\"bar\", \"one\"))"
   ]
  },
  {
   "cell_type": "code",
   "execution_count": 428,
   "metadata": {
    "scrolled": true
   },
   "outputs": [
    {
     "data": {
      "image/png": "[encoded data removed]",
      "text/plain": [
       "<Figure size 864x720 with 5 Axes>"
      ]
     },
     "metadata": {
      "needs_background": "light"
     },
     "output_type": "display_data"
    }
   ],
   "source": [
    "fig, ax = plt.subplots(5,1, figsize=(12, 10), sharex=True, sharey=True)\n",
    "ax[0].hist(grouped_pacific[\"loan_amount\"], label = \"pacific\", color='Blue')\n",
    "ax[1].hist(grouped_plains[\"loan_amount\"], label = \"plains\", color='purple')\n",
    "ax[2].hist(grouped_northeast[\"loan_amount\"], label = \"northeast\", color='red')\n",
    "ax[3].hist(grouped_south[\"loan_amount\"], label = \"south\", color='orange')\n",
    "ax[4].hist(grouped_midwest[\"loan_amount\"], label = \"midwest\", color='green')\n",
    "plt.xlabel(\"Loan Price\")\n",
    "ax[2].set_ylabel(\"Frequency by region\")\n",
    "ax[0].set_title(\"Difference in loan price by region\")\n",
    "ax[0].legend()\n",
    "ax[1].legend()\n",
    "ax[2].legend()\n",
    "ax[3].legend()\n",
    "ax[4].legend()\n",
    "plt.show()"
   ]
  },
  {
   "cell_type": "code",
   "execution_count": null,
   "metadata": {},
   "outputs": [],
   "source": []
  }
 ],
 "metadata": {
  "kernelspec": {
   "display_name": "Python 3",
   "language": "python",
   "name": "python3"
  },
  "language_info": {
   "codemirror_mode": {
    "name": "ipython",
    "version": 3
   },
   "file_extension": ".py",
   "mimetype": "text/x-python",
   "name": "python",
   "nbconvert_exporter": "python",
   "pygments_lexer": "ipython3",
   "version": "3.8.5"
  }
 },
 "nbformat": 4,
 "nbformat_minor": 4
}

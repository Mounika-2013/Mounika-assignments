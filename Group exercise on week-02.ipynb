{
 "cells": [
  {
   "cell_type": "code",
   "execution_count": 10,
   "metadata": {},
   "outputs": [],
   "source": [
    "#range is (inclusive, exclusive)\n",
    "def myfunction(n):\n",
    "    if n % 2== 0:\n",
    "        if n in range(2,6):\n",
    "            print(\"not weird\")\n",
    "        if n in range(6, 21):\n",
    "            print(\"weird\")\n",
    "        if n>20:\n",
    "            print(\"not weird\")\n",
    "    else:\n",
    "        print(\"weird\")"
   ]
  },
  {
   "cell_type": "code",
   "execution_count": 16,
   "metadata": {},
   "outputs": [
    {
     "name": "stdout",
     "output_type": "stream",
     "text": [
      "weird\n"
     ]
    }
   ],
   "source": [
    "#call the function\n",
    "myfunction(21)"
   ]
  }
 ],
 "metadata": {
  "kernelspec": {
   "display_name": "Python 3",
   "language": "python",
   "name": "python3"
  },
  "language_info": {
   "codemirror_mode": {
    "name": "ipython",
    "version": 3
   },
   "file_extension": ".py",
   "mimetype": "text/x-python",
   "name": "python",
   "nbconvert_exporter": "python",
   "pygments_lexer": "ipython3",
   "version": "3.8.5"
  }
 },
 "nbformat": 4,
 "nbformat_minor": 4
}

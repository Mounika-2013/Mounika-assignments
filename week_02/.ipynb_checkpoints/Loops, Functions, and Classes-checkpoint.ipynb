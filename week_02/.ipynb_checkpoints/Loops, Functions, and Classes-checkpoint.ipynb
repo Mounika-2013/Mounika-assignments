{
 "cells": [
  {
   "cell_type": "markdown",
   "metadata": {},
   "source": [
    "# Week 3 In-Class: Loops, Functions, and Classes\n",
    "\n",
    "In this notebook, you'll get some practice with the material you've been reading about, practicing, and discussing in class. Please don't change anything in the cells that say \"Don't change anything in this cell.\" Otherwise, fill in the cells with code to complete the assignments. Good luck!"
   ]
  },
  {
   "cell_type": "markdown",
   "metadata": {},
   "source": [
    "## Loops\n",
    "Let's practice loops. The first block of code is going to create a list of numbers from 1 to 30. You'll use that list in the first two problems."
   ]
  },
  {
   "cell_type": "code",
   "execution_count": 4,
   "metadata": {},
   "outputs": [],
   "source": [
    "# Don't change anything in this cell\n",
    "practice_list = list(range(1, 31))"
   ]
  },
  {
   "cell_type": "code",
   "execution_count": 19,
   "metadata": {},
   "outputs": [
    {
     "name": "stdout",
     "output_type": "stream",
     "text": [
      "1is ODD\n",
      "2is EVEN\n",
      "3is WEIRD\n",
      "4is EVEN\n",
      "5is ODD\n",
      "6is EVEN\n",
      "7is ODD\n",
      "8is EVEN\n",
      "9is WEIRD\n",
      "10is EVEN\n",
      "11is ODD\n",
      "12is EVEN\n",
      "13is ODD\n",
      "14is EVEN\n",
      "15is WEIRD\n",
      "16is EVEN\n",
      "17is ODD\n",
      "18is EVEN\n",
      "19is ODD\n",
      "20is EVEN\n",
      "21is WEIRD\n",
      "22is EVEN\n",
      "23is ODD\n",
      "24is EVEN\n",
      "25is ODD\n",
      "26is EVEN\n",
      "27is WEIRD\n",
      "28is EVEN\n",
      "29is ODD\n",
      "30is EVEN\n"
     ]
    }
   ],
   "source": [
    "# Problem 1\n",
    "# For every [number] in practice_list, do the following:\n",
    "# If the number is even, print '[number] is EVEN'\n",
    "# If the number is odd and not divisible by three, print '[number] is ODD'\n",
    "# If the number is odd and divisible by three, print '[number] is WEIRD'\n",
    "practice_list = list(range(1, 31))\n",
    "for num in practice_list:\n",
    "    if num%2== 1:\n",
    "        if num%3==0:\n",
    "            print(str(num) + \"is WEIRD\")\n",
    "        else:\n",
    "            print(str(num) + \"is ODD\")\n",
    "    else:\n",
    "        print(str(num) + \"is EVEN\")"
   ]
  },
  {
   "cell_type": "markdown",
   "metadata": {},
   "source": [
    "Hoopefully you had some fun playing with loops and if statements. In the next problem, you'll need to use a loop to count how many numbers are odd and how many are even in the list.\n",
    "\n",
    "For example, if the list was [1, 2, 3, 4, 5], you'd print:\n",
    "<br>Number of even numbers : 2\n",
    "<br>Number of odd numbers : 3\n",
    "\n",
    "Hint: you'll have to think about keeping a count of the odds and evens as you go through the loop, and print them out when you're done."
   ]
  },
  {
   "cell_type": "code",
   "execution_count": 21,
   "metadata": {},
   "outputs": [
    {
     "name": "stdout",
     "output_type": "stream",
     "text": [
      "15\n",
      "15\n"
     ]
    }
   ],
   "source": [
    "# Problem 2\n",
    "# Print how many even numbers and how many odd numbers there are in practice_list\n",
    "practice_list = list(range(1, 31))\n",
    "counteven =0\n",
    "countodd = 0\n",
    "for num in practice_list:\n",
    "    if num%2==0:\n",
    "        counteven = counteven+1\n",
    "        \n",
    "    else:\n",
    "        countodd = countodd + 1\n",
    "        \n",
    "print(counteven)\n",
    "print(countodd)\n"
   ]
  },
  {
   "cell_type": "markdown",
   "metadata": {},
   "source": [
    "In the next question, write a loop to print the following pattern:\n",
    "<br>1\n",
    "<br>1 2\n",
    "<br>1 2 3\n",
    "<br>1 2 3 4 5"
   ]
  },
  {
   "cell_type": "code",
   "execution_count": 37,
   "metadata": {},
   "outputs": [
    {
     "name": "stdout",
     "output_type": "stream",
     "text": [
      "1\n",
      "12\n",
      "123\n",
      "1234\n",
      "12345\n"
     ]
    }
   ],
   "source": [
    "# Problem 3\n",
    "# Generate the pattern above\n",
    "for i in range(1,6):\n",
    "    for j in range(1, i+1):\n",
    "        print(j, end='')\n",
    "    print('')\n",
    "        \n",
    "\n",
    "    \n",
    "    "
   ]
  },
  {
   "cell_type": "code",
   "execution_count": 38,
   "metadata": {},
   "outputs": [
    {
     "name": "stdout",
     "output_type": "stream",
     "text": [
      "1\n",
      "12\n",
      "123\n",
      "1234\n",
      "12345\n",
      "123456\n",
      "1234567\n",
      "12345678\n",
      "123456789\n"
     ]
    }
   ],
   "source": [
    "# Problem 2 bonus: can you change your code to make the pattern go up to 9?\n",
    "for i in range(1,10):\n",
    "    for j in range(1, i+1):\n",
    "        print(j, end='')\n",
    "    print('')"
   ]
  },
  {
   "cell_type": "markdown",
   "metadata": {},
   "source": [
    "## Functions\n",
    "\n",
    "Functions can be useful in situations where you find yourself typing the same code over and over again. In the next problem, we have 5 different lists containing a student's name and their grades in four of their classes. You'll need to print each student's name and their average grade. You could repeat the same code for all five students.... but see if you can do it with a function!"
   ]
  },
  {
   "cell_type": "code",
   "execution_count": 49,
   "metadata": {},
   "outputs": [],
   "source": [
    "# Don't change this block of code\n",
    "student_1 = ['Erica', 97, 95, 69, 77]\n",
    "student_2 = ['Jim', 70, 89, 83, 70]\n",
    "student_3 = ['Alex', 69, 86, 87, 65]\n",
    "student_4 = ['Lauren', 81, 86, 87, 65]\n",
    "student_5 = ['Dana', 84, 74, 84, 70]"
   ]
  },
  {
   "cell_type": "code",
   "execution_count": 32,
   "metadata": {},
   "outputs": [
    {
     "name": "stdout",
     "output_type": "stream",
     "text": [
      "Erica has an average score of:  84.5\n",
      "Jim has an average score of:  78.0\n",
      "Alex has an average score of:  76.75\n",
      "Lauren has an average score of:  79.75\n",
      "Dana has an average score of:  78.0\n"
     ]
    }
   ],
   "source": [
    "#Problem 2\n",
    "#For all five students, print \"[Student name] has an average score of [average grade]\"\n",
    "def studentavg(student):\n",
    "    name = student.pop(0)\n",
    "    answer = sum(student)/len(student)\n",
    "    print(name, \"has an average score of: \", answer)\n",
    "        \n",
    "student_1 = ['Erica', 97, 95, 69, 77]\n",
    "student_2 = ['Jim', 70, 89, 83, 70]\n",
    "student_3 = ['Alex', 69, 86, 87, 65]\n",
    "student_4 = ['Lauren', 81, 86, 87, 65]\n",
    "student_5 = ['Dana', 84, 74, 84, 70]\n",
    "studentavg(student_1)\n",
    "studentavg(student_2)\n",
    "studentavg(student_3)\n",
    "studentavg(student_4)\n",
    "studentavg(student_5)\n",
    "#print(name, \"has an average score of \", average)\n",
    "    \n",
    "    \n",
    "\n",
    "    "
   ]
  },
  {
   "cell_type": "markdown",
   "metadata": {},
   "source": [
    "Let's try a function to check if a year is a leap year.\n",
    "\n",
    "In the Gregorian calendar, three conditions are used to identify leap years:\n",
    "* The year can be evenly divided by 4, is a leap year, unless:\n",
    "* The year can be evenly divided by 100, it is NOT a leap year, unless:\n",
    "* The year is also evenly divisible by 400. Then it is a leap year.\n",
    "\n",
    "This means that in the Gregorian calendar, the years 2000 and 2400 are leap years, while 1800, 1900, 2100, 2200, 2300 and 2500 are NOT leap years. In the next problem, you'll write a function that determines whether a given year is a leap year.\n"
   ]
  },
  {
   "cell_type": "code",
   "execution_count": 34,
   "metadata": {},
   "outputs": [
    {
     "name": "stdout",
     "output_type": "stream",
     "text": [
      "year is not a leap year\n",
      "year is not a leap year\n",
      "year is a leap year\n"
     ]
    }
   ],
   "source": [
    "# Write a function that checks if a year is a leap year. \n",
    "# Find out if 1972, 1982, 1988, 1994, and 2000 were leap years.\n",
    "def leapyear(number):\n",
    "    if number%4 ==0 and number%400 ==0:\n",
    "        print(\"year is a leap year\")\n",
    "    else:\n",
    "        print(\"year is not a leap year\")\n",
    "    \n",
    "leapyear(1800)\n",
    "leapyear(2100)\n",
    "leapyear(2000)"
   ]
  },
  {
   "cell_type": "markdown",
   "metadata": {},
   "source": [
    "If you got your function to work and asked a friend (or Google) if your answers were correct, good news! Your function and your knowledge of loops are both about to come in handy."
   ]
  },
  {
   "cell_type": "code",
   "execution_count": 39,
   "metadata": {},
   "outputs": [
    {
     "name": "stdout",
     "output_type": "stream",
     "text": [
      "2000\n",
      "None\n"
     ]
    }
   ],
   "source": [
    "# Make a list called leap_years that contains every leap year from 1900 to 2020\n",
    "#def leapyear(number):\n",
    "for year in range(1900,2021):\n",
    "    leap_years =[]\n",
    "    if year%4 ==0 and year%400 ==0:\n",
    "        print(year)\n",
    "        result = leap_years.append(year)\n",
    "        print(result)\n",
    "    \n",
    "    \n",
    "   "
   ]
  },
  {
   "cell_type": "code",
   "execution_count": 58,
   "metadata": {},
   "outputs": [
    {
     "name": "stdout",
     "output_type": "stream",
     "text": [
      "2000\n",
      "None\n"
     ]
    }
   ],
   "source": [
    "leaprange = range(1900, 2021)\n",
    "leaplist = list(leaprange)\n",
    "for i in leaplist:\n",
    "    empty_list = []\n",
    "    if i%4==0 and i%400 ==0:\n",
    "        print(i)\n",
    "        result = empty_list.append(i)\n",
    "        print(result)\n",
    "   \n",
    "\n",
    "    "
   ]
  },
  {
   "cell_type": "markdown",
   "metadata": {},
   "source": [
    "## Classes"
   ]
  },
  {
   "cell_type": "code",
   "execution_count": null,
   "metadata": {},
   "outputs": [],
   "source": []
  }
 ],
 "metadata": {
  "kernelspec": {
   "display_name": "Python 3",
   "language": "python",
   "name": "python3"
  },
  "language_info": {
   "codemirror_mode": {
    "name": "ipython",
    "version": 3
   },
   "file_extension": ".py",
   "mimetype": "text/x-python",
   "name": "python",
   "nbconvert_exporter": "python",
   "pygments_lexer": "ipython3",
   "version": "3.8.5"
  }
 },
 "nbformat": 4,
 "nbformat_minor": 4
}

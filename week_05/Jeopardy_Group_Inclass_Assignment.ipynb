{
 "cells": [
  {
   "cell_type": "code",
   "execution_count": null,
   "metadata": {},
   "outputs": [],
   "source": [
    "# Import jeopardy.csv and create a dataframe from the data. Find out the following:\n",
    "a. How many rows are there in the dataframe? What does a row represent in this\n",
    "dataset? What is the “grain”?\n",
    "b. Clean the data. How do you need to “clean” it? What is “dirty” about this data?\n",
    "c. How many unique shows were there each year?\n",
    "d. How many times was each category used?\n",
    "e. Which month (over the years) has had the most shows?\n",
    "f. Are there any answers that appeared multiple times? Find the questions for the top\n",
    "three most common answers."
   ]
  },
  {
   "cell_type": "code",
   "execution_count": 214,
   "metadata": {},
   "outputs": [
    {
     "data": {
      "text/plain": [
       "216930"
      ]
     },
     "execution_count": 214,
     "metadata": {},
     "output_type": "execute_result"
    }
   ],
   "source": [
    "import pandas as pd\n",
    "import numpy as np\n",
    "import datetime\n",
    "df = pd.read_csv(\"JEOPARDY_CSV.csv\")\n",
    "len(df)"
   ]
  },
  {
   "cell_type": "code",
   "execution_count": 225,
   "metadata": {
    "scrolled": false
   },
   "outputs": [
    {
     "data": {
      "text/html": [
       "<div>\n",
       "<style scoped>\n",
       "    .dataframe tbody tr th:only-of-type {\n",
       "        vertical-align: middle;\n",
       "    }\n",
       "\n",
       "    .dataframe tbody tr th {\n",
       "        vertical-align: top;\n",
       "    }\n",
       "\n",
       "    .dataframe thead th {\n",
       "        text-align: right;\n",
       "    }\n",
       "</style>\n",
       "<table border=\"1\" class=\"dataframe\">\n",
       "  <thead>\n",
       "    <tr style=\"text-align: right;\">\n",
       "      <th></th>\n",
       "      <th>ShowNumber</th>\n",
       "      <th>AirDate</th>\n",
       "      <th>Round</th>\n",
       "      <th>Category</th>\n",
       "      <th>Value</th>\n",
       "      <th>Question</th>\n",
       "      <th>Answer</th>\n",
       "      <th>year</th>\n",
       "      <th>month</th>\n",
       "    </tr>\n",
       "  </thead>\n",
       "  <tbody>\n",
       "    <tr>\n",
       "      <th>0</th>\n",
       "      <td>4680</td>\n",
       "      <td>12/31/2004</td>\n",
       "      <td>Jeopardy!</td>\n",
       "      <td>HISTORY</td>\n",
       "      <td>$200</td>\n",
       "      <td>For the last 8 years of his life, Galileo was ...</td>\n",
       "      <td>Copernicus</td>\n",
       "      <td>2004</td>\n",
       "      <td>12</td>\n",
       "    </tr>\n",
       "    <tr>\n",
       "      <th>1</th>\n",
       "      <td>4680</td>\n",
       "      <td>12/31/2004</td>\n",
       "      <td>Jeopardy!</td>\n",
       "      <td>ESPN's TOP 10 ALL-TIME ATHLETES</td>\n",
       "      <td>$200</td>\n",
       "      <td>No. 2: 1912 Olympian; football star at Carlisl...</td>\n",
       "      <td>Jim Thorpe</td>\n",
       "      <td>2004</td>\n",
       "      <td>12</td>\n",
       "    </tr>\n",
       "    <tr>\n",
       "      <th>2</th>\n",
       "      <td>4680</td>\n",
       "      <td>12/31/2004</td>\n",
       "      <td>Jeopardy!</td>\n",
       "      <td>EVERYBODY TALKS ABOUT IT...</td>\n",
       "      <td>$200</td>\n",
       "      <td>The city of Yuma in this state has a record av...</td>\n",
       "      <td>Arizona</td>\n",
       "      <td>2004</td>\n",
       "      <td>12</td>\n",
       "    </tr>\n",
       "    <tr>\n",
       "      <th>3</th>\n",
       "      <td>4680</td>\n",
       "      <td>12/31/2004</td>\n",
       "      <td>Jeopardy!</td>\n",
       "      <td>THE COMPANY LINE</td>\n",
       "      <td>$200</td>\n",
       "      <td>In 1963, live on \"The Art Linkletter Show\", th...</td>\n",
       "      <td>McDonald's</td>\n",
       "      <td>2004</td>\n",
       "      <td>12</td>\n",
       "    </tr>\n",
       "    <tr>\n",
       "      <th>4</th>\n",
       "      <td>4680</td>\n",
       "      <td>12/31/2004</td>\n",
       "      <td>Jeopardy!</td>\n",
       "      <td>EPITAPHS &amp; TRIBUTES</td>\n",
       "      <td>$200</td>\n",
       "      <td>Signer of the Dec. of Indep., framer of the Co...</td>\n",
       "      <td>John Adams</td>\n",
       "      <td>2004</td>\n",
       "      <td>12</td>\n",
       "    </tr>\n",
       "    <tr>\n",
       "      <th>...</th>\n",
       "      <td>...</td>\n",
       "      <td>...</td>\n",
       "      <td>...</td>\n",
       "      <td>...</td>\n",
       "      <td>...</td>\n",
       "      <td>...</td>\n",
       "      <td>...</td>\n",
       "      <td>...</td>\n",
       "      <td>...</td>\n",
       "    </tr>\n",
       "    <tr>\n",
       "      <th>216925</th>\n",
       "      <td>4999</td>\n",
       "      <td>5/11/2006</td>\n",
       "      <td>Double Jeopardy!</td>\n",
       "      <td>RIDDLE ME THIS</td>\n",
       "      <td>$2,000</td>\n",
       "      <td>This Puccini opera turns on the solution to 3 ...</td>\n",
       "      <td>Turandot</td>\n",
       "      <td>2006</td>\n",
       "      <td>5</td>\n",
       "    </tr>\n",
       "    <tr>\n",
       "      <th>216926</th>\n",
       "      <td>4999</td>\n",
       "      <td>5/11/2006</td>\n",
       "      <td>Double Jeopardy!</td>\n",
       "      <td>\"T\" BIRDS</td>\n",
       "      <td>$2,000</td>\n",
       "      <td>In North America this term is properly applied...</td>\n",
       "      <td>a titmouse</td>\n",
       "      <td>2006</td>\n",
       "      <td>5</td>\n",
       "    </tr>\n",
       "    <tr>\n",
       "      <th>216927</th>\n",
       "      <td>4999</td>\n",
       "      <td>5/11/2006</td>\n",
       "      <td>Double Jeopardy!</td>\n",
       "      <td>AUTHORS IN THEIR YOUTH</td>\n",
       "      <td>$2,000</td>\n",
       "      <td>In Penny Lane, where this \"Hellraiser\" grew up...</td>\n",
       "      <td>Clive Barker</td>\n",
       "      <td>2006</td>\n",
       "      <td>5</td>\n",
       "    </tr>\n",
       "    <tr>\n",
       "      <th>216928</th>\n",
       "      <td>4999</td>\n",
       "      <td>5/11/2006</td>\n",
       "      <td>Double Jeopardy!</td>\n",
       "      <td>QUOTATIONS</td>\n",
       "      <td>$2,000</td>\n",
       "      <td>From Ft. Sill, Okla. he made the plea, Arizona...</td>\n",
       "      <td>Geronimo</td>\n",
       "      <td>2006</td>\n",
       "      <td>5</td>\n",
       "    </tr>\n",
       "    <tr>\n",
       "      <th>216929</th>\n",
       "      <td>4999</td>\n",
       "      <td>5/11/2006</td>\n",
       "      <td>Final Jeopardy!</td>\n",
       "      <td>HISTORIC NAMES</td>\n",
       "      <td>None</td>\n",
       "      <td>A silent movie title includes the last name of...</td>\n",
       "      <td>Grigori Alexandrovich Potemkin</td>\n",
       "      <td>2006</td>\n",
       "      <td>5</td>\n",
       "    </tr>\n",
       "  </tbody>\n",
       "</table>\n",
       "<p>216928 rows × 9 columns</p>\n",
       "</div>"
      ],
      "text/plain": [
       "        ShowNumber     AirDate             Round  \\\n",
       "0             4680  12/31/2004         Jeopardy!   \n",
       "1             4680  12/31/2004         Jeopardy!   \n",
       "2             4680  12/31/2004         Jeopardy!   \n",
       "3             4680  12/31/2004         Jeopardy!   \n",
       "4             4680  12/31/2004         Jeopardy!   \n",
       "...            ...         ...               ...   \n",
       "216925        4999   5/11/2006  Double Jeopardy!   \n",
       "216926        4999   5/11/2006  Double Jeopardy!   \n",
       "216927        4999   5/11/2006  Double Jeopardy!   \n",
       "216928        4999   5/11/2006  Double Jeopardy!   \n",
       "216929        4999   5/11/2006   Final Jeopardy!   \n",
       "\n",
       "                               Category    Value  \\\n",
       "0                               HISTORY    $200    \n",
       "1       ESPN's TOP 10 ALL-TIME ATHLETES    $200    \n",
       "2           EVERYBODY TALKS ABOUT IT...    $200    \n",
       "3                      THE COMPANY LINE    $200    \n",
       "4                   EPITAPHS & TRIBUTES    $200    \n",
       "...                                 ...      ...   \n",
       "216925                   RIDDLE ME THIS  $2,000    \n",
       "216926                        \"T\" BIRDS  $2,000    \n",
       "216927           AUTHORS IN THEIR YOUTH  $2,000    \n",
       "216928                       QUOTATIONS  $2,000    \n",
       "216929                   HISTORIC NAMES     None   \n",
       "\n",
       "                                                 Question  \\\n",
       "0       For the last 8 years of his life, Galileo was ...   \n",
       "1       No. 2: 1912 Olympian; football star at Carlisl...   \n",
       "2       The city of Yuma in this state has a record av...   \n",
       "3       In 1963, live on \"The Art Linkletter Show\", th...   \n",
       "4       Signer of the Dec. of Indep., framer of the Co...   \n",
       "...                                                   ...   \n",
       "216925  This Puccini opera turns on the solution to 3 ...   \n",
       "216926  In North America this term is properly applied...   \n",
       "216927  In Penny Lane, where this \"Hellraiser\" grew up...   \n",
       "216928  From Ft. Sill, Okla. he made the plea, Arizona...   \n",
       "216929  A silent movie title includes the last name of...   \n",
       "\n",
       "                                Answer  year  month  \n",
       "0                           Copernicus  2004     12  \n",
       "1                           Jim Thorpe  2004     12  \n",
       "2                              Arizona  2004     12  \n",
       "3                           McDonald's  2004     12  \n",
       "4                           John Adams  2004     12  \n",
       "...                                ...   ...    ...  \n",
       "216925                        Turandot  2006      5  \n",
       "216926                      a titmouse  2006      5  \n",
       "216927                    Clive Barker  2006      5  \n",
       "216928                        Geronimo  2006      5  \n",
       "216929  Grigori Alexandrovich Potemkin  2006      5  \n",
       "\n",
       "[216928 rows x 9 columns]"
      ]
     },
     "execution_count": 225,
     "metadata": {},
     "output_type": "execute_result"
    }
   ],
   "source": [
    "df.head(2)\n",
    "df.dropna()"
   ]
  },
  {
   "cell_type": "code",
   "execution_count": 226,
   "metadata": {
    "scrolled": true
   },
   "outputs": [
    {
     "name": "stdout",
     "output_type": "stream",
     "text": [
      "Index(['ShowNumber', 'AirDate', 'Round', 'Category', 'Value', 'Question',\n",
      "       'Answer', 'year', 'month'],\n",
      "      dtype='object')\n"
     ]
    }
   ],
   "source": [
    "df.columns = df.columns.str.replace(' ', '')\n",
    "print(df.columns)"
   ]
  },
  {
   "cell_type": "code",
   "execution_count": 227,
   "metadata": {
    "scrolled": false
   },
   "outputs": [
    {
     "data": {
      "text/html": [
       "<div>\n",
       "<style scoped>\n",
       "    .dataframe tbody tr th:only-of-type {\n",
       "        vertical-align: middle;\n",
       "    }\n",
       "\n",
       "    .dataframe tbody tr th {\n",
       "        vertical-align: top;\n",
       "    }\n",
       "\n",
       "    .dataframe thead th {\n",
       "        text-align: right;\n",
       "    }\n",
       "</style>\n",
       "<table border=\"1\" class=\"dataframe\">\n",
       "  <thead>\n",
       "    <tr style=\"text-align: right;\">\n",
       "      <th></th>\n",
       "      <th>ShowNumber</th>\n",
       "      <th>AirDate</th>\n",
       "      <th>Round</th>\n",
       "      <th>Category</th>\n",
       "      <th>Value</th>\n",
       "      <th>Question</th>\n",
       "      <th>Answer</th>\n",
       "      <th>year</th>\n",
       "      <th>month</th>\n",
       "    </tr>\n",
       "  </thead>\n",
       "  <tbody>\n",
       "    <tr>\n",
       "      <th>0</th>\n",
       "      <td>4680</td>\n",
       "      <td>12/31/2004</td>\n",
       "      <td>Jeopardy!</td>\n",
       "      <td>HISTORY</td>\n",
       "      <td>$200</td>\n",
       "      <td>For the last 8 years of his life, Galileo was ...</td>\n",
       "      <td>Copernicus</td>\n",
       "      <td>2004</td>\n",
       "      <td>12</td>\n",
       "    </tr>\n",
       "    <tr>\n",
       "      <th>1</th>\n",
       "      <td>4680</td>\n",
       "      <td>12/31/2004</td>\n",
       "      <td>Jeopardy!</td>\n",
       "      <td>ESPN's TOP 10 ALL-TIME ATHLETES</td>\n",
       "      <td>$200</td>\n",
       "      <td>No. 2: 1912 Olympian; football star at Carlisl...</td>\n",
       "      <td>Jim Thorpe</td>\n",
       "      <td>2004</td>\n",
       "      <td>12</td>\n",
       "    </tr>\n",
       "    <tr>\n",
       "      <th>2</th>\n",
       "      <td>4680</td>\n",
       "      <td>12/31/2004</td>\n",
       "      <td>Jeopardy!</td>\n",
       "      <td>EVERYBODY TALKS ABOUT IT...</td>\n",
       "      <td>$200</td>\n",
       "      <td>The city of Yuma in this state has a record av...</td>\n",
       "      <td>Arizona</td>\n",
       "      <td>2004</td>\n",
       "      <td>12</td>\n",
       "    </tr>\n",
       "    <tr>\n",
       "      <th>3</th>\n",
       "      <td>4680</td>\n",
       "      <td>12/31/2004</td>\n",
       "      <td>Jeopardy!</td>\n",
       "      <td>THE COMPANY LINE</td>\n",
       "      <td>$200</td>\n",
       "      <td>In 1963, live on \"The Art Linkletter Show\", th...</td>\n",
       "      <td>McDonald's</td>\n",
       "      <td>2004</td>\n",
       "      <td>12</td>\n",
       "    </tr>\n",
       "    <tr>\n",
       "      <th>4</th>\n",
       "      <td>4680</td>\n",
       "      <td>12/31/2004</td>\n",
       "      <td>Jeopardy!</td>\n",
       "      <td>EPITAPHS &amp; TRIBUTES</td>\n",
       "      <td>$200</td>\n",
       "      <td>Signer of the Dec. of Indep., framer of the Co...</td>\n",
       "      <td>John Adams</td>\n",
       "      <td>2004</td>\n",
       "      <td>12</td>\n",
       "    </tr>\n",
       "  </tbody>\n",
       "</table>\n",
       "</div>"
      ],
      "text/plain": [
       "   ShowNumber     AirDate      Round                         Category  Value  \\\n",
       "0        4680  12/31/2004  Jeopardy!                          HISTORY  $200    \n",
       "1        4680  12/31/2004  Jeopardy!  ESPN's TOP 10 ALL-TIME ATHLETES  $200    \n",
       "2        4680  12/31/2004  Jeopardy!      EVERYBODY TALKS ABOUT IT...  $200    \n",
       "3        4680  12/31/2004  Jeopardy!                 THE COMPANY LINE  $200    \n",
       "4        4680  12/31/2004  Jeopardy!              EPITAPHS & TRIBUTES  $200    \n",
       "\n",
       "                                            Question      Answer  year  month  \n",
       "0  For the last 8 years of his life, Galileo was ...  Copernicus  2004     12  \n",
       "1  No. 2: 1912 Olympian; football star at Carlisl...  Jim Thorpe  2004     12  \n",
       "2  The city of Yuma in this state has a record av...     Arizona  2004     12  \n",
       "3  In 1963, live on \"The Art Linkletter Show\", th...  McDonald's  2004     12  \n",
       "4  Signer of the Dec. of Indep., framer of the Co...  John Adams  2004     12  "
      ]
     },
     "execution_count": 227,
     "metadata": {},
     "output_type": "execute_result"
    }
   ],
   "source": [
    "df['year'] = pd.DatetimeIndex(df['AirDate']).year\n",
    "df.head()"
   ]
  },
  {
   "cell_type": "code",
   "execution_count": 230,
   "metadata": {
    "scrolled": false
   },
   "outputs": [
    {
     "name": "stdout",
     "output_type": "stream",
     "text": [
      "598       In 1958 this country launched its second 5-yea...\n",
      "1507      In 1999 this country began 3 \"golden weeks\" of...\n",
      "3050      P.F. Chang's is an upscale bistro specializing...\n",
      "3476      This country's National People's Congress has ...\n",
      "5990      Of the 6 nations India borders, this one is th...\n",
      "                                ...                        \n",
      "214506    Principal mountain ranges in this large countr...\n",
      "215115                                      Dr. Sun Yat-Sen\n",
      "215556                                             Tsingtao\n",
      "215912    Because of a policy adopted in 1979, this coun...\n",
      "216150    Colorful patches called p'u-fang used to indic...\n",
      "Name: Question, Length: 216, dtype: object\n"
     ]
    }
   ],
   "source": [
    "#Are there any answers that appeared multiple times? Find the questions for the top\n",
    "#three most common answers.\n",
    "answer = df['Answer'].value_counts()\n",
    "#answer\n",
    "#answer_list = ['China', 'Australia', 'Japan']\n",
    "print(df.loc[df['Answer']=='China', 'Question'])\n",
    "print(df.loc[df['Answer']=='Australia', 'Question'])\n",
    "print(df.loc[df['Answer']=='Japan', 'Question'])\n",
    "\n",
    "#filt = df['Answer'].isin(answer_list)\n",
    "#df.loc[filt,'Answer']\n",
    "#df_china = df['Answer'] =='China'\n",
    "#df[df_china]\n"
   ]
  },
  {
   "cell_type": "code",
   "execution_count": 220,
   "metadata": {},
   "outputs": [
    {
     "data": {
      "text/plain": [
       "11    25672\n",
       "1     21128\n",
       "5     21052\n",
       "12    20875\n",
       "10    20510\n",
       "3     19731\n",
       "4     19654\n",
       "6     19331\n",
       "2     17501\n",
       "9     16053\n",
       "7     15423\n",
       "Name: month, dtype: int64"
      ]
     },
     "execution_count": 220,
     "metadata": {},
     "output_type": "execute_result"
    }
   ],
   "source": [
    "#Which month (over the years) has had the most shows?\n",
    "df['month'] = pd.DatetimeIndex(df['AirDate']).month\n",
    "df['month'].value_counts()"
   ]
  },
  {
   "cell_type": "code",
   "execution_count": 287,
   "metadata": {
    "scrolled": false
   },
   "outputs": [
    {
     "data": {
      "text/html": [
       "<div>\n",
       "<style scoped>\n",
       "    .dataframe tbody tr th:only-of-type {\n",
       "        vertical-align: middle;\n",
       "    }\n",
       "\n",
       "    .dataframe tbody tr th {\n",
       "        vertical-align: top;\n",
       "    }\n",
       "\n",
       "    .dataframe thead th {\n",
       "        text-align: right;\n",
       "    }\n",
       "</style>\n",
       "<table border=\"1\" class=\"dataframe\">\n",
       "  <thead>\n",
       "    <tr style=\"text-align: right;\">\n",
       "      <th></th>\n",
       "      <th>count</th>\n",
       "    </tr>\n",
       "    <tr>\n",
       "      <th>cat_list</th>\n",
       "      <th></th>\n",
       "    </tr>\n",
       "  </thead>\n",
       "  <tbody>\n",
       "    <tr>\n",
       "      <th>BEFORE &amp; AFTER</th>\n",
       "      <td>547</td>\n",
       "    </tr>\n",
       "    <tr>\n",
       "      <th>SCIENCE</th>\n",
       "      <td>519</td>\n",
       "    </tr>\n",
       "    <tr>\n",
       "      <th>LITERATURE</th>\n",
       "      <td>496</td>\n",
       "    </tr>\n",
       "    <tr>\n",
       "      <th>AMERICAN HISTORY</th>\n",
       "      <td>418</td>\n",
       "    </tr>\n",
       "    <tr>\n",
       "      <th>POTPOURRI</th>\n",
       "      <td>401</td>\n",
       "    </tr>\n",
       "  </tbody>\n",
       "</table>\n",
       "</div>"
      ],
      "text/plain": [
       "                  count\n",
       "cat_list               \n",
       "BEFORE & AFTER      547\n",
       "SCIENCE             519\n",
       "LITERATURE          496\n",
       "AMERICAN HISTORY    418\n",
       "POTPOURRI           401"
      ]
     },
     "execution_count": 287,
     "metadata": {},
     "output_type": "execute_result"
    }
   ],
   "source": [
    "#How many times was each category used?\n",
    "cat_count= df['Category'].value_counts()\n",
    "count = cat_count.head(5)\n",
    "newdf = pd.DataFrame({'count':count})\n",
    "newdf.index.name ='cat_list'\n",
    "newdf\n",
    "#cat_count = cat.head(5)\n",
    "#cat_count\n",
    "#cat_count\n",
    "#top five from category\n",
    "#top_categories = (df['Category'].value_counts()).head(5)\n",
    "#for value in top_categories:\n",
    "    #print(value)\n",
    "\n"
   ]
  },
  {
   "cell_type": "code",
   "execution_count": 295,
   "metadata": {},
   "outputs": [
    {
     "data": {
      "image/png": "[encoded data removed]",
      "text/plain": [
       "<Figure size 432x288 with 1 Axes>"
      ]
     },
     "metadata": {
      "needs_background": "light"
     },
     "output_type": "display_data"
    }
   ],
   "source": [
    "import matplotlib.pyplot as plt\n",
    "fig,ax=plt.subplots()\n",
    "ax.bar(newdf.index, newdf['count'])\n",
    "ax.set_xlabel(\"cat_list\")\n",
    "ax.set_ylabel(\"count\")\n",
    "plt.xticks(rotation=90)\n",
    "plt.show()\n",
    "\n",
    "    "
   ]
  },
  {
   "cell_type": "code",
   "execution_count": 232,
   "metadata": {
    "scrolled": true
   },
   "outputs": [
    {
     "data": {
      "text/plain": [
       "year\n",
       "1984    [62, 10, 13, 59, 64, 58, 14, 61, 4, 1, 57, 66,...\n",
       "1985    [308, 307, 306, 311, 278, 279, 276, 312, 314, ...\n",
       "1986    [422, 423, 496, 369, 503, 499, 497, 498, 446, ...\n",
       "1987    [732, 731, 734, 618, 663, 739, 621, 606, 737, ...\n",
       "1988    [776, 958, 980, 838, 966, 961, 967, 839, 778, ...\n",
       "1989    [1191, 1103, 1210, 1194, 1206, 1162, 1227, 119...\n",
       "1990    [1279, 1302, 1276, 1274, 1291, 1429, 1329, 124...\n",
       "1991    [1658, 1526, 1480, 1657, 1532, 1531, 1605, 165...\n",
       "1992    [1800, 1740, 1875, 1908, 1795, 1799, 1856, 189...\n",
       "1993    [2047, 2120, 2124, 2126, 2118, 2020, 2019, 212...\n",
       "1994    [2349, 2341, 2339, 2355, 2340, 2236, 2350, 235...\n",
       "1995    [2515, 2576, 2579, 2572, 2513, 2595, 2582, 254...\n",
       "1996    [2825, 2735, 2818, 2679, 2778, 2835, 2832, 268...\n",
       "1997    [3036, 3060, 3003, 3010, 2893, 3014, 2903, 305...\n",
       "1998    [3113, 3112, 3214, 3254, 3191, 3255, 3102, 310...\n",
       "1999    [3362, 3447, 3461, 3403, 3436, 3343, 3331, 348...\n",
       "2000    [3751, 3673, 3619, 3534, 3632, 3697, 3537, 354...\n",
       "2001    [3834, 3815, 3911, 3903, 3855, 3898, 3907, 382...\n",
       "2002    [4107, 4085, 4220, 4213, 4183, 4146, 4160, 417...\n",
       "2003    [4335, 4398, 4278, 4254, 4306, 4227, 4362, 430...\n",
       "2004    [4680, 4541, 4595, 4487, 4576, 4582, 4506, 466...\n",
       "2005    [4699, 4751, 4700, 4842, 4808, 4724, 4787, 473...\n",
       "2006    [4931, 4936, 4960, 5079, 5084, 5002, 4968, 498...\n",
       "2007    [5243, 5145, 5282, 5334, 5347, 5352, 5173, 530...\n",
       "2008    [5392, 5580, 5431, 5512, 5419, 5476, 5467, 544...\n",
       "2009    [5690, 5795, 5630, 5807, 5622, 5796, 5797, 568...\n",
       "2010    [5957, 6037, 5851, 5981, 5979, 5996, 5903, 591...\n",
       "2011    [6118, 6125, 6144, 6239, 6072, 6135, 6231, 619...\n",
       "2012    [6294, 6288, 6287, 6293, 6282, 6297, 6295, 629...\n",
       "Name: ShowNumber, dtype: object"
      ]
     },
     "execution_count": 232,
     "metadata": {},
     "output_type": "execute_result"
    }
   ],
   "source": [
    "year_col= df.groupby(\"year\")\n",
    "show_unique = year_col[\"ShowNumber\"].unique()\n",
    "show_unique\n",
    "#How many unique shows were there each year?\n",
    "    \n",
    "#data = {\"year_col\": year_col,\n",
    "       #\"show_unique\":show_unique }\n",
    "#year_df = pd.DataFrame(data)\n",
    "#year_df"
   ]
  },
  {
   "cell_type": "code",
   "execution_count": 242,
   "metadata": {},
   "outputs": [
    {
     "data": {
      "text/plain": [
       "BEFORE & AFTER      547\n",
       "SCIENCE             519\n",
       "LITERATURE          496\n",
       "AMERICAN HISTORY    418\n",
       "POTPOURRI           401\n",
       "Name: Category, dtype: int64"
      ]
     },
     "execution_count": 242,
     "metadata": {},
     "output_type": "execute_result"
    }
   ],
   "source": [
    "# Create a visualization that shows the top 5 categories \n",
    "#(those referenced the most often). Be sure to label appropriately.\n",
    "top_categories"
   ]
  },
  {
   "cell_type": "code",
   "execution_count": null,
   "metadata": {},
   "outputs": [],
   "source": [
    "fig, ax = plt.subplots()\n",
    "ax.scatter()"
   ]
  }
 ],
 "metadata": {
  "kernelspec": {
   "display_name": "Python 3",
   "language": "python",
   "name": "python3"
  },
  "language_info": {
   "codemirror_mode": {
    "name": "ipython",
    "version": 3
   },
   "file_extension": ".py",
   "mimetype": "text/x-python",
   "name": "python",
   "nbconvert_exporter": "python",
   "pygments_lexer": "ipython3",
   "version": "3.8.5"
  }
 },
 "nbformat": 4,
 "nbformat_minor": 4
}

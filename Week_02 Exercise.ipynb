{
 "cells": [
  {
   "cell_type": "code",
   "execution_count": 4,
   "metadata": {},
   "outputs": [
    {
     "name": "stdout",
     "output_type": "stream",
     "text": [
      "Enter a number: 7\n",
      "Odd\n"
     ]
    }
   ],
   "source": [
    "num = int(input(\"Enter a number: \"))\n",
    "\n",
    "if num % 2 == 0:\n",
    "    print(\"Even\")\n",
    "else:\n",
    "    print(\"Odd\")"
   ]
  },
  {
   "cell_type": "code",
   "execution_count": 15,
   "metadata": {},
   "outputs": [
    {
     "name": "stdout",
     "output_type": "stream",
     "text": [
      "Trimpu Hello\n",
      "Trimpu Good Morning\n",
      "Trimpu Have a nice day\n",
      "Santosh Hello\n",
      "Santosh Good Morning\n",
      "Santosh Have a nice day\n",
      "Yuvaan Hello\n",
      "Yuvaan Good Morning\n",
      "Yuvaan Have a nice day\n"
     ]
    }
   ],
   "source": [
    "# Greeter\n",
    "#Write a function that takes in a person's name, and prints out a greeting.\n",
    "#The greeting must be at least three lines, and the person's name must be in each line.\n",
    "#Use your function to greet at least three different people.\n",
    "#Bonus: Store your three people in a list, and call your function from a for loop.\n",
    "list_name = [\"Trimpu\", \"Santosh\", \"Yuvaan\"]\n",
    "def greeter(list_name):\n",
    "    for names in list_name:\n",
    "        print(names, \"Hello\")\n",
    "        print(names, \"Good Morning\")\n",
    "        print(names, \"Have a nice day\")\n",
    "    return\n",
    "greeter(list_name)"
   ]
  },
  {
   "cell_type": "code",
   "execution_count": 19,
   "metadata": {},
   "outputs": [
    {
     "name": "stdout",
     "output_type": "stream",
     "text": [
      "Hello Mounika-Ganta\n",
      "Hello Santosh-Chintapally\n",
      "Hello Yuvaan-Chintapally\n"
     ]
    }
   ],
   "source": [
    "#Full Name\n",
    "#Write a function that takes in a first name and a last name, and prints out a nicely formatted full name, \n",
    "#in a sentence. Your sentence could be as simple as, \"Hello, full_name.\"\n",
    "#Call your function three times, with a different name each time.\n",
    "\n",
    "def fullname(FN, LN):\n",
    "    print(\"Hello\", FN + \"-\" + LN)\n",
    "    return\n",
    "\n",
    "fullname(\"Mounika\", \"Ganta\")\n",
    "fullname(\"Santosh\", \"Chintapally\")\n",
    "fullname(\"Yuvaan\", \"Chintapally\")"
   ]
  },
  {
   "cell_type": "code",
   "execution_count": 47,
   "metadata": {},
   "outputs": [
    {
     "name": "stdout",
     "output_type": "stream",
     "text": [
      "the two numbers are:  5 3  and the result is: 8\n",
      "the two numbers are:  3 4  and the result is: 7\n",
      "the two numbers are:  10 10  and the result is: 20\n"
     ]
    }
   ],
   "source": [
    "#Addition Calculator\n",
    "#Write a function that takes in two numbers, and adds them together. \n",
    "#Make your function print out a sentence showing the two numbers, and the result.\n",
    "#Call your function with three different sets of numbers.\n",
    "def addtogether(a, b):\n",
    "    result = a+b\n",
    "    print(\"the two numbers are: \", a, b,\" and the result is:\",  result)\n",
    "addtogether(5,3)\n",
    "addtogether(3,4)\n",
    "addtogether(10,10)"
   ]
  },
  {
   "cell_type": "code",
   "execution_count": 49,
   "metadata": {},
   "outputs": [
    {
     "name": "stdout",
     "output_type": "stream",
     "text": [
      "0\n"
     ]
    }
   ],
   "source": [
    "#Return calculator\n",
    "#Modify Addition Calculator so that your function returns the sum of the two numbers. The printing should happen \n",
    "#outside of the function.\n",
    "def addtogether(a, b):\n",
    "    result = a+b\n",
    "    \n",
    "addtogether(5, 3)\n",
    "print(result)"
   ]
  },
  {
   "cell_type": "code",
   "execution_count": 66,
   "metadata": {},
   "outputs": [
    {
     "name": "stdout",
     "output_type": "stream",
     "text": [
      "8\n"
     ]
    }
   ],
   "source": [
    "def addtogether(a, b):\n",
    "    add = (a+b)\n",
    "    return add\n",
    "print(addtogether(5,3))"
   ]
  },
  {
   "cell_type": "code",
   "execution_count": null,
   "metadata": {},
   "outputs": [],
   "source": []
  }
 ],
 "metadata": {
  "kernelspec": {
   "display_name": "Python 3",
   "language": "python",
   "name": "python3"
  },
  "language_info": {
   "codemirror_mode": {
    "name": "ipython",
    "version": 3
   },
   "file_extension": ".py",
   "mimetype": "text/x-python",
   "name": "python",
   "nbconvert_exporter": "python",
   "pygments_lexer": "ipython3",
   "version": "3.8.5"
  }
 },
 "nbformat": 4,
 "nbformat_minor": 4
}

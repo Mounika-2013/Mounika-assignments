{
 "cells": [
  {
   "cell_type": "code",
   "execution_count": 19,
   "metadata": {},
   "outputs": [],
   "source": [
    "from selenium import webdriver\n",
    "\n",
    "\n",
    "#to run chrome in headless mode(without GUI)\n",
    "from selenium.webdriver.chrome.options import Options\n",
    "options = Options()\n",
    "options.headless = True\n",
    "\n"
   ]
  },
  {
   "cell_type": "code",
   "execution_count": null,
   "metadata": {},
   "outputs": [],
   "source": [
    "driver = webdriver.Chrome(options=options)\n",
    "#driver.get(\"https://www.dndbeyond.com/classes/\")\n",
    "driver.get(\"https://dnd.wizards.com/classes\")\n",
    "print(driver.page_source)"
   ]
  },
  {
   "cell_type": "code",
   "execution_count": null,
   "metadata": {},
   "outputs": [],
   "source": [
    "from bs4 import BeautifulSoup\n",
    "from selenium import webdriver\n",
    "\n",
    "driver = webdriver.Chrome()\n",
    "driver.get(\"https://dnd.wizards.com/classes\")\n",
    "html = driver.page_source\n",
    "soup = BeautifulSoup(html)\n",
    "print(soup)"
   ]
  },
  {
   "cell_type": "code",
   "execution_count": 23,
   "metadata": {},
   "outputs": [
    {
     "data": {
      "text/plain": [
       "<Response [200]>"
      ]
     },
     "execution_count": 23,
     "metadata": {},
     "output_type": "execute_result"
    }
   ],
   "source": [
    "url = \"https://dnd.wizards.com/classes\"\n",
    "response = requests.get(url)\n",
    "response"
   ]
  },
  {
   "cell_type": "code",
   "execution_count": null,
   "metadata": {},
   "outputs": [],
   "source": [
    "soup = bs(response.text, 'html.parser')\n",
    "print(soup.prettify())"
   ]
  },
  {
   "cell_type": "code",
   "execution_count": null,
   "metadata": {},
   "outputs": [],
   "source": [
    "all_divs = soup.find_all('div', class_='item-content')\n",
    "all_divs"
   ]
  },
  {
   "cell_type": "code",
   "execution_count": 26,
   "metadata": {},
   "outputs": [
    {
     "name": "stdout",
     "output_type": "stream",
     "text": [
      "['ul', 'defs', 'g', 'span', 'head', 'div', 'form', 'stop', 'style', 'header', 'img', 'radialgradient', 'h1', 'script', 'li', 'p', 'title', 'body', 'br', 'button', 'image', 'article', 'input', 'h2', 'link', 'nav', 'html', 'h6', 'path', 'h5', 'svg', 'meta', 'footer', 'a', 'label']\n"
     ]
    }
   ],
   "source": [
    "class_list = []\n",
    "tags = {tag.name for tag in soup.find_all()}\n",
    "print(list(tags))\n"
   ]
  },
  {
   "cell_type": "code",
   "execution_count": 50,
   "metadata": {
    "scrolled": true
   },
   "outputs": [
    {
     "data": {
      "text/html": [
       "<div>\n",
       "<style scoped>\n",
       "    .dataframe tbody tr th:only-of-type {\n",
       "        vertical-align: middle;\n",
       "    }\n",
       "\n",
       "    .dataframe tbody tr th {\n",
       "        vertical-align: top;\n",
       "    }\n",
       "\n",
       "    .dataframe thead th {\n",
       "        text-align: right;\n",
       "    }\n",
       "</style>\n",
       "<table border=\"1\" class=\"dataframe\">\n",
       "  <thead>\n",
       "    <tr style=\"text-align: right;\">\n",
       "      <th></th>\n",
       "      <th>classes</th>\n",
       "    </tr>\n",
       "  </thead>\n",
       "  <tbody>\n",
       "    <tr>\n",
       "      <th>0</th>\n",
       "      <td>main-menu</td>\n",
       "    </tr>\n",
       "    <tr>\n",
       "      <th>1</th>\n",
       "      <td>mega_menu_content</td>\n",
       "    </tr>\n",
       "    <tr>\n",
       "      <th>2</th>\n",
       "      <td>submenu-col</td>\n",
       "    </tr>\n",
       "    <tr>\n",
       "      <th>3</th>\n",
       "      <td>submenu-col</td>\n",
       "    </tr>\n",
       "    <tr>\n",
       "      <th>4</th>\n",
       "      <td>submenu-col</td>\n",
       "    </tr>\n",
       "    <tr>\n",
       "      <th>...</th>\n",
       "      <td>...</td>\n",
       "    </tr>\n",
       "    <tr>\n",
       "      <th>259</th>\n",
       "      <td>cta-button</td>\n",
       "    </tr>\n",
       "    <tr>\n",
       "      <th>260</th>\n",
       "      <td>cta-button</td>\n",
       "    </tr>\n",
       "    <tr>\n",
       "      <th>261</th>\n",
       "      <td>store-btn cta-external-link-icon</td>\n",
       "    </tr>\n",
       "    <tr>\n",
       "      <th>262</th>\n",
       "      <td>store-btn cta-external-link-icon</td>\n",
       "    </tr>\n",
       "    <tr>\n",
       "      <th>263</th>\n",
       "      <td>store-btn cta-external-link-icon</td>\n",
       "    </tr>\n",
       "  </tbody>\n",
       "</table>\n",
       "<p>264 rows × 1 columns</p>\n",
       "</div>"
      ],
      "text/plain": [
       "                              classes\n",
       "0                           main-menu\n",
       "1                   mega_menu_content\n",
       "2                         submenu-col\n",
       "3                         submenu-col\n",
       "4                         submenu-col\n",
       "..                                ...\n",
       "259                        cta-button\n",
       "260                        cta-button\n",
       "261  store-btn cta-external-link-icon\n",
       "262  store-btn cta-external-link-icon\n",
       "263  store-btn cta-external-link-icon\n",
       "\n",
       "[264 rows x 1 columns]"
      ]
     },
     "execution_count": 50,
     "metadata": {},
     "output_type": "execute_result"
    }
   ],
   "source": [
    "class_list = []\n",
    "tags = {tag.name for tag in soup.find_all()}\n",
    "#print(list(tags))\n",
    "for tag in tags:\n",
    "    for i in soup.find_all(tag):\n",
    "        if i.has_attr('class'):\n",
    "            if len(i['class']) !=0:\n",
    "                #dict_new = {\"class\":i.text.strip('').strip('\\n')}\n",
    "                class_list.append(\" \".join(i['class']))\n",
    "                #class_list.append(dict_new)\n",
    "#print(class_list)\n",
    "class_df = pd.DataFrame(class_list)\n",
    "class_df.columns=['classes']\n",
    "class_df"
   ]
  },
  {
   "cell_type": "code",
   "execution_count": 51,
   "metadata": {
    "scrolled": true
   },
   "outputs": [
    {
     "data": {
      "text/html": [
       "<div>\n",
       "<style scoped>\n",
       "    .dataframe tbody tr th:only-of-type {\n",
       "        vertical-align: middle;\n",
       "    }\n",
       "\n",
       "    .dataframe tbody tr th {\n",
       "        vertical-align: top;\n",
       "    }\n",
       "\n",
       "    .dataframe thead th {\n",
       "        text-align: right;\n",
       "    }\n",
       "</style>\n",
       "<table border=\"1\" class=\"dataframe\">\n",
       "  <thead>\n",
       "    <tr style=\"text-align: right;\">\n",
       "      <th></th>\n",
       "      <th>description_text</th>\n",
       "      <th>a_href</th>\n",
       "    </tr>\n",
       "  </thead>\n",
       "  <tbody>\n",
       "    <tr>\n",
       "      <th>0</th>\n",
       "      <td>Questing knights, conquering overlords, royal ...</td>\n",
       "      <td>None</td>\n",
       "    </tr>\n",
       "    <tr>\n",
       "      <th>1</th>\n",
       "      <td>Drawing on the subtle weave of magic that perm...</td>\n",
       "      <td>None</td>\n",
       "    </tr>\n",
       "    <tr>\n",
       "      <th>2</th>\n",
       "      <td>Clerics are intermediaries between the mortal ...</td>\n",
       "      <td>None</td>\n",
       "    </tr>\n",
       "    <tr>\n",
       "      <th>3</th>\n",
       "      <td>Rogues rely on skill, stealth, and their foes’...</td>\n",
       "      <td>None</td>\n",
       "    </tr>\n",
       "    <tr>\n",
       "      <th>4</th>\n",
       "      <td>Far from the bustle of cities and towns, amid ...</td>\n",
       "      <td>None</td>\n",
       "    </tr>\n",
       "    <tr>\n",
       "      <th>5</th>\n",
       "      <td>While these are core classes for the game, you...</td>\n",
       "      <td>None</td>\n",
       "    </tr>\n",
       "  </tbody>\n",
       "</table>\n",
       "</div>"
      ],
      "text/plain": [
       "                                    description_text a_href\n",
       "0  Questing knights, conquering overlords, royal ...   None\n",
       "1  Drawing on the subtle weave of magic that perm...   None\n",
       "2  Clerics are intermediaries between the mortal ...   None\n",
       "3  Rogues rely on skill, stealth, and their foes’...   None\n",
       "4  Far from the bustle of cities and towns, amid ...   None\n",
       "5  While these are core classes for the game, you...   None"
      ]
     },
     "execution_count": 51,
     "metadata": {},
     "output_type": "execute_result"
    }
   ],
   "source": [
    "import pandas as pd\n",
    "page_one_results = []\n",
    "\n",
    "for div in all_divs:\n",
    "    try:\n",
    "        description_text = div.find('div', class_='description').text\n",
    "        a_href = div.find('a', class_='href')\n",
    "        description_dict = {'description_text':description_text,\n",
    "                           'a_href':a_href}\n",
    "                         \n",
    "        page_one_results.append(description_dict)\n",
    "    except AttributeError as e:\n",
    "        print(e)\n",
    "            \n",
    "page_one_df = pd.DataFrame(page_one_results)\n",
    "\n",
    "page_one_df['description_text'] = page_one_df['description_text'].map(lambda x: x.lstrip('\\n'))\n",
    "page_one_df"
   ]
  },
  {
   "cell_type": "code",
   "execution_count": null,
   "metadata": {},
   "outputs": [],
   "source": []
  }
 ],
 "metadata": {
  "kernelspec": {
   "display_name": "Python 3",
   "language": "python",
   "name": "python3"
  },
  "language_info": {
   "codemirror_mode": {
    "name": "ipython",
    "version": 3
   },
   "file_extension": ".py",
   "mimetype": "text/x-python",
   "name": "python",
   "nbconvert_exporter": "python",
   "pygments_lexer": "ipython3",
   "version": "3.8.5"
  }
 },
 "nbformat": 4,
 "nbformat_minor": 4
}
